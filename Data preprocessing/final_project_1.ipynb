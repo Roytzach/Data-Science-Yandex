{
 "cells": [
  {
   "cell_type": "markdown",
   "metadata": {},
   "source": [
    "## Analyzing borrowers’ risk of defaulting\n",
    "\n",
    "Your project is to prepare a report for a bank’s loan division. You’ll need to find out if a customer’s marital status and number of children has an impact on whether they will default on a loan. The bank already has some data on customers’ credit worthiness.\n",
    "\n",
    "Your report will be considered when building a **credit scoring** of a potential customer. A ** credit scoring ** is used to evaluate the ability of a potential borrower to repay their loan."
   ]
  },
  {
   "cell_type": "markdown",
   "metadata": {},
   "source": [
    "### Step 1. Open the data file and have a look at the general information. "
   ]
  },
  {
   "cell_type": "code",
   "execution_count": 1,
   "metadata": {
    "scrolled": true
   },
   "outputs": [
    {
     "data": {
      "text/html": [
       "<div>\n",
       "<style scoped>\n",
       "    .dataframe tbody tr th:only-of-type {\n",
       "        vertical-align: middle;\n",
       "    }\n",
       "\n",
       "    .dataframe tbody tr th {\n",
       "        vertical-align: top;\n",
       "    }\n",
       "\n",
       "    .dataframe thead th {\n",
       "        text-align: right;\n",
       "    }\n",
       "</style>\n",
       "<table border=\"1\" class=\"dataframe\">\n",
       "  <thead>\n",
       "    <tr style=\"text-align: right;\">\n",
       "      <th></th>\n",
       "      <th>children</th>\n",
       "      <th>days_employed</th>\n",
       "      <th>dob_years</th>\n",
       "      <th>education</th>\n",
       "      <th>education_id</th>\n",
       "      <th>family_status</th>\n",
       "      <th>family_status_id</th>\n",
       "      <th>gender</th>\n",
       "      <th>income_type</th>\n",
       "      <th>debt</th>\n",
       "      <th>total_income</th>\n",
       "      <th>purpose</th>\n",
       "    </tr>\n",
       "  </thead>\n",
       "  <tbody>\n",
       "    <tr>\n",
       "      <td>0</td>\n",
       "      <td>1</td>\n",
       "      <td>-8437.673028</td>\n",
       "      <td>42</td>\n",
       "      <td>masters degree</td>\n",
       "      <td>0</td>\n",
       "      <td>married</td>\n",
       "      <td>0</td>\n",
       "      <td>F</td>\n",
       "      <td>employee</td>\n",
       "      <td>0</td>\n",
       "      <td>253875.639453</td>\n",
       "      <td>purchase of the house</td>\n",
       "    </tr>\n",
       "    <tr>\n",
       "      <td>1</td>\n",
       "      <td>1</td>\n",
       "      <td>-4024.803754</td>\n",
       "      <td>36</td>\n",
       "      <td>secondary education</td>\n",
       "      <td>1</td>\n",
       "      <td>married</td>\n",
       "      <td>0</td>\n",
       "      <td>F</td>\n",
       "      <td>employee</td>\n",
       "      <td>0</td>\n",
       "      <td>112080.014102</td>\n",
       "      <td>car purchase</td>\n",
       "    </tr>\n",
       "    <tr>\n",
       "      <td>2</td>\n",
       "      <td>0</td>\n",
       "      <td>-5623.422610</td>\n",
       "      <td>33</td>\n",
       "      <td>Secondary Education</td>\n",
       "      <td>1</td>\n",
       "      <td>married</td>\n",
       "      <td>0</td>\n",
       "      <td>M</td>\n",
       "      <td>employee</td>\n",
       "      <td>0</td>\n",
       "      <td>145885.952297</td>\n",
       "      <td>purchase of the house</td>\n",
       "    </tr>\n",
       "    <tr>\n",
       "      <td>3</td>\n",
       "      <td>3</td>\n",
       "      <td>-4124.747207</td>\n",
       "      <td>32</td>\n",
       "      <td>secondary education</td>\n",
       "      <td>1</td>\n",
       "      <td>married</td>\n",
       "      <td>0</td>\n",
       "      <td>M</td>\n",
       "      <td>employee</td>\n",
       "      <td>0</td>\n",
       "      <td>267628.550329</td>\n",
       "      <td>supplementary education</td>\n",
       "    </tr>\n",
       "    <tr>\n",
       "      <td>4</td>\n",
       "      <td>0</td>\n",
       "      <td>340266.072047</td>\n",
       "      <td>53</td>\n",
       "      <td>secondary education</td>\n",
       "      <td>1</td>\n",
       "      <td>civil partnership</td>\n",
       "      <td>1</td>\n",
       "      <td>F</td>\n",
       "      <td>retiree</td>\n",
       "      <td>0</td>\n",
       "      <td>158616.077870</td>\n",
       "      <td>to have a wedding</td>\n",
       "    </tr>\n",
       "  </tbody>\n",
       "</table>\n",
       "</div>"
      ],
      "text/plain": [
       "   children  days_employed  dob_years            education  education_id  \\\n",
       "0         1   -8437.673028         42       masters degree             0   \n",
       "1         1   -4024.803754         36  secondary education             1   \n",
       "2         0   -5623.422610         33  Secondary Education             1   \n",
       "3         3   -4124.747207         32  secondary education             1   \n",
       "4         0  340266.072047         53  secondary education             1   \n",
       "\n",
       "       family_status  family_status_id gender income_type  debt  \\\n",
       "0            married                 0      F    employee     0   \n",
       "1            married                 0      F    employee     0   \n",
       "2            married                 0      M    employee     0   \n",
       "3            married                 0      M    employee     0   \n",
       "4  civil partnership                 1      F     retiree     0   \n",
       "\n",
       "    total_income                  purpose  \n",
       "0  253875.639453    purchase of the house  \n",
       "1  112080.014102             car purchase  \n",
       "2  145885.952297    purchase of the house  \n",
       "3  267628.550329  supplementary education  \n",
       "4  158616.077870        to have a wedding  "
      ]
     },
     "execution_count": 1,
     "metadata": {},
     "output_type": "execute_result"
    }
   ],
   "source": [
    "import pandas as pd\n",
    "import numpy as np\n",
    "from collections import Counter\n",
    "import seaborn as sns\n",
    "import matplotlib.pyplot as plt\n",
    "\n",
    "df = pd.read_csv('/datasets/credit_scoring_eng.csv')\n",
    "df.head(5)"
   ]
  },
  {
   "cell_type": "markdown",
   "metadata": {},
   "source": [
    "# General Functions"
   ]
  },
  {
   "cell_type": "code",
   "execution_count": 2,
   "metadata": {},
   "outputs": [],
   "source": [
    "def get_percent_of_na(df,num):\n",
    "    df = df.copy()\n",
    "    s = (df.isna().sum() / df.shape[0])\n",
    "    for column, percent in zip(s.index,s.values):\n",
    "        print('Column {} has {:.{}%} percent of Nulls'.format(column, percent,num))\n",
    "        \n",
    "def get_negative_perc(df):\n",
    "    df = df.copy()\n",
    "    for col in df.columns:\n",
    "        if np.issubdtype(df[col],np.number):\n",
    "            s = (df[df[col] < 0][col].count() / df.shape[0])\n",
    "            print('Column {} has {:.4%} percent of negative values'.format(col, s))\n",
    "            \n",
    "def get_dict(df,columns):\n",
    "    if len(columns) > 2 or columns == []:\n",
    "        return None\n",
    "    \n",
    "    df = df.copy()\n",
    "    df_dict = df[columns].drop_duplicates().reset_index(drop=True)           \n",
    "    return pd.Series(df_dict[columns[0]], index=df_dict[columns[1]]).to_dict()\n",
    "\n",
    "\n",
    "def categorize_purpose(x):\n",
    "    if 'educ' in x or 'univers' in x:\n",
    "        return 'education'\n",
    "    elif 'car' in x:\n",
    "        return 'car'\n",
    "    elif 'real' in x or 'estate' in x:\n",
    "        return 'real estate'\n",
    "    elif 'hous' in x or 'property' in x:\n",
    "        return 'house'\n",
    "    elif 'wed' in x:\n",
    "        return 'wedding'\n",
    "    else:\n",
    "        'other'\n",
    "        \n",
    "        \n",
    "def assign_total_income_category(quantiles,x):\n",
    "    if x < quantiles[0]:\n",
    "        return 'Low'\n",
    "    elif x < quantiles[1]:\n",
    "        return 'Medium'\n",
    "    elif x < quantiles[2]:\n",
    "        return 'Medium-High'\n",
    "    else:\n",
    "        return 'High'\n",
    "    \n",
    "\n",
    "def get_total_income_category(df,column,new_column):\n",
    "    low = df[column].quantile(q=0.25)\n",
    "    medium = df[column].quantile(q=0.5)\n",
    "    medium_high = df[column].quantile(q=0.75)\n",
    "    quantiles = [low, medium, medium_high]\n",
    "    \n",
    "    df[new_column] = df[column].apply(lambda x: assign_total_income_category(quantiles,x))\n",
    "    return df[new_column]"
   ]
  },
  {
   "cell_type": "code",
   "execution_count": 3,
   "metadata": {},
   "outputs": [
    {
     "name": "stdout",
     "output_type": "stream",
     "text": [
      "<class 'pandas.core.frame.DataFrame'>\n",
      "RangeIndex: 21525 entries, 0 to 21524\n",
      "Data columns (total 12 columns):\n",
      "children            21525 non-null int64\n",
      "days_employed       19351 non-null float64\n",
      "dob_years           21525 non-null int64\n",
      "education           21525 non-null object\n",
      "education_id        21525 non-null int64\n",
      "family_status       21525 non-null object\n",
      "family_status_id    21525 non-null int64\n",
      "gender              21525 non-null object\n",
      "income_type         21525 non-null object\n",
      "debt                21525 non-null int64\n",
      "total_income        19351 non-null float64\n",
      "purpose             21525 non-null object\n",
      "dtypes: float64(2), int64(5), object(5)\n",
      "memory usage: 2.0+ MB\n"
     ]
    }
   ],
   "source": [
    "df.info()"
   ]
  },
  {
   "cell_type": "code",
   "execution_count": 4,
   "metadata": {},
   "outputs": [
    {
     "data": {
      "text/html": [
       "<div>\n",
       "<style scoped>\n",
       "    .dataframe tbody tr th:only-of-type {\n",
       "        vertical-align: middle;\n",
       "    }\n",
       "\n",
       "    .dataframe tbody tr th {\n",
       "        vertical-align: top;\n",
       "    }\n",
       "\n",
       "    .dataframe thead th {\n",
       "        text-align: right;\n",
       "    }\n",
       "</style>\n",
       "<table border=\"1\" class=\"dataframe\">\n",
       "  <thead>\n",
       "    <tr style=\"text-align: right;\">\n",
       "      <th></th>\n",
       "      <th>children</th>\n",
       "      <th>days_employed</th>\n",
       "      <th>dob_years</th>\n",
       "      <th>education_id</th>\n",
       "      <th>family_status_id</th>\n",
       "      <th>debt</th>\n",
       "      <th>total_income</th>\n",
       "    </tr>\n",
       "  </thead>\n",
       "  <tbody>\n",
       "    <tr>\n",
       "      <td>count</td>\n",
       "      <td>21525.000000</td>\n",
       "      <td>19351.000000</td>\n",
       "      <td>21525.000000</td>\n",
       "      <td>21525.000000</td>\n",
       "      <td>21525.000000</td>\n",
       "      <td>21525.000000</td>\n",
       "      <td>1.935100e+04</td>\n",
       "    </tr>\n",
       "    <tr>\n",
       "      <td>mean</td>\n",
       "      <td>0.538908</td>\n",
       "      <td>63046.497661</td>\n",
       "      <td>43.293380</td>\n",
       "      <td>0.817236</td>\n",
       "      <td>0.972544</td>\n",
       "      <td>0.080883</td>\n",
       "      <td>1.674223e+05</td>\n",
       "    </tr>\n",
       "    <tr>\n",
       "      <td>std</td>\n",
       "      <td>1.381587</td>\n",
       "      <td>140827.311974</td>\n",
       "      <td>12.574584</td>\n",
       "      <td>0.548138</td>\n",
       "      <td>1.420324</td>\n",
       "      <td>0.272661</td>\n",
       "      <td>1.029716e+05</td>\n",
       "    </tr>\n",
       "    <tr>\n",
       "      <td>min</td>\n",
       "      <td>-1.000000</td>\n",
       "      <td>-18388.949901</td>\n",
       "      <td>0.000000</td>\n",
       "      <td>0.000000</td>\n",
       "      <td>0.000000</td>\n",
       "      <td>0.000000</td>\n",
       "      <td>2.066726e+04</td>\n",
       "    </tr>\n",
       "    <tr>\n",
       "      <td>25%</td>\n",
       "      <td>0.000000</td>\n",
       "      <td>-2747.423625</td>\n",
       "      <td>33.000000</td>\n",
       "      <td>1.000000</td>\n",
       "      <td>0.000000</td>\n",
       "      <td>0.000000</td>\n",
       "      <td>1.030532e+05</td>\n",
       "    </tr>\n",
       "    <tr>\n",
       "      <td>50%</td>\n",
       "      <td>0.000000</td>\n",
       "      <td>-1203.369529</td>\n",
       "      <td>42.000000</td>\n",
       "      <td>1.000000</td>\n",
       "      <td>0.000000</td>\n",
       "      <td>0.000000</td>\n",
       "      <td>1.450179e+05</td>\n",
       "    </tr>\n",
       "    <tr>\n",
       "      <td>75%</td>\n",
       "      <td>1.000000</td>\n",
       "      <td>-291.095954</td>\n",
       "      <td>53.000000</td>\n",
       "      <td>1.000000</td>\n",
       "      <td>1.000000</td>\n",
       "      <td>0.000000</td>\n",
       "      <td>2.034351e+05</td>\n",
       "    </tr>\n",
       "    <tr>\n",
       "      <td>max</td>\n",
       "      <td>20.000000</td>\n",
       "      <td>401755.400475</td>\n",
       "      <td>75.000000</td>\n",
       "      <td>4.000000</td>\n",
       "      <td>4.000000</td>\n",
       "      <td>1.000000</td>\n",
       "      <td>2.265604e+06</td>\n",
       "    </tr>\n",
       "  </tbody>\n",
       "</table>\n",
       "</div>"
      ],
      "text/plain": [
       "           children  days_employed     dob_years  education_id  \\\n",
       "count  21525.000000   19351.000000  21525.000000  21525.000000   \n",
       "mean       0.538908   63046.497661     43.293380      0.817236   \n",
       "std        1.381587  140827.311974     12.574584      0.548138   \n",
       "min       -1.000000  -18388.949901      0.000000      0.000000   \n",
       "25%        0.000000   -2747.423625     33.000000      1.000000   \n",
       "50%        0.000000   -1203.369529     42.000000      1.000000   \n",
       "75%        1.000000    -291.095954     53.000000      1.000000   \n",
       "max       20.000000  401755.400475     75.000000      4.000000   \n",
       "\n",
       "       family_status_id          debt  total_income  \n",
       "count      21525.000000  21525.000000  1.935100e+04  \n",
       "mean           0.972544      0.080883  1.674223e+05  \n",
       "std            1.420324      0.272661  1.029716e+05  \n",
       "min            0.000000      0.000000  2.066726e+04  \n",
       "25%            0.000000      0.000000  1.030532e+05  \n",
       "50%            0.000000      0.000000  1.450179e+05  \n",
       "75%            1.000000      0.000000  2.034351e+05  \n",
       "max            4.000000      1.000000  2.265604e+06  "
      ]
     },
     "execution_count": 4,
     "metadata": {},
     "output_type": "execute_result"
    }
   ],
   "source": [
    "df.describe()"
   ]
  },
  {
   "cell_type": "code",
   "execution_count": 5,
   "metadata": {},
   "outputs": [
    {
     "data": {
      "text/html": [
       "<div>\n",
       "<style scoped>\n",
       "    .dataframe tbody tr th:only-of-type {\n",
       "        vertical-align: middle;\n",
       "    }\n",
       "\n",
       "    .dataframe tbody tr th {\n",
       "        vertical-align: top;\n",
       "    }\n",
       "\n",
       "    .dataframe thead th {\n",
       "        text-align: right;\n",
       "    }\n",
       "</style>\n",
       "<table border=\"1\" class=\"dataframe\">\n",
       "  <thead>\n",
       "    <tr style=\"text-align: right;\">\n",
       "      <th></th>\n",
       "      <th>education</th>\n",
       "      <th>family_status</th>\n",
       "      <th>gender</th>\n",
       "      <th>income_type</th>\n",
       "      <th>purpose</th>\n",
       "    </tr>\n",
       "  </thead>\n",
       "  <tbody>\n",
       "    <tr>\n",
       "      <td>count</td>\n",
       "      <td>21525</td>\n",
       "      <td>21525</td>\n",
       "      <td>21525</td>\n",
       "      <td>21525</td>\n",
       "      <td>21525</td>\n",
       "    </tr>\n",
       "    <tr>\n",
       "      <td>unique</td>\n",
       "      <td>15</td>\n",
       "      <td>5</td>\n",
       "      <td>3</td>\n",
       "      <td>8</td>\n",
       "      <td>38</td>\n",
       "    </tr>\n",
       "    <tr>\n",
       "      <td>top</td>\n",
       "      <td>secondary education</td>\n",
       "      <td>married</td>\n",
       "      <td>F</td>\n",
       "      <td>employee</td>\n",
       "      <td>wedding ceremony</td>\n",
       "    </tr>\n",
       "    <tr>\n",
       "      <td>freq</td>\n",
       "      <td>13750</td>\n",
       "      <td>12380</td>\n",
       "      <td>14236</td>\n",
       "      <td>11119</td>\n",
       "      <td>797</td>\n",
       "    </tr>\n",
       "  </tbody>\n",
       "</table>\n",
       "</div>"
      ],
      "text/plain": [
       "                  education family_status gender income_type           purpose\n",
       "count                 21525         21525  21525       21525             21525\n",
       "unique                   15             5      3           8                38\n",
       "top     secondary education       married      F    employee  wedding ceremony\n",
       "freq                  13750         12380  14236       11119               797"
      ]
     },
     "execution_count": 5,
     "metadata": {},
     "output_type": "execute_result"
    }
   ],
   "source": [
    "df.describe(include=['object'])"
   ]
  },
  {
   "cell_type": "code",
   "execution_count": 6,
   "metadata": {},
   "outputs": [
    {
     "name": "stdout",
     "output_type": "stream",
     "text": [
      "Total NA of every column:\n",
      "Column children has 0.00000% percent of Nulls\n",
      "Column days_employed has 10.09988% percent of Nulls\n",
      "Column dob_years has 0.00000% percent of Nulls\n",
      "Column education has 0.00000% percent of Nulls\n",
      "Column education_id has 0.00000% percent of Nulls\n",
      "Column family_status has 0.00000% percent of Nulls\n",
      "Column family_status_id has 0.00000% percent of Nulls\n",
      "Column gender has 0.00000% percent of Nulls\n",
      "Column income_type has 0.00000% percent of Nulls\n",
      "Column debt has 0.00000% percent of Nulls\n",
      "Column total_income has 10.09988% percent of Nulls\n",
      "Column purpose has 0.00000% percent of Nulls\n",
      "\n",
      "Total negative value for every column:\n",
      "Column children has 0.2184% percent of negative values\n",
      "Column days_employed has 73.8955% percent of negative values\n",
      "Column dob_years has 0.0000% percent of negative values\n",
      "Column education_id has 0.0000% percent of negative values\n",
      "Column family_status_id has 0.0000% percent of negative values\n",
      "Column debt has 0.0000% percent of negative values\n",
      "Column total_income has 0.0000% percent of negative values\n"
     ]
    }
   ],
   "source": [
    "print('Total NA of every column:')\n",
    "get_percent_of_na(df,5)\n",
    "print()\n",
    "print('Total negative value for every column:')\n",
    "get_negative_perc(df)"
   ]
  },
  {
   "cell_type": "markdown",
   "metadata": {},
   "source": [
    "### Conclusion"
   ]
  },
  {
   "cell_type": "markdown",
   "metadata": {},
   "source": [
    "As we can see from looking into the general information about the data all columns have the right type but we have\n",
    "some wired numbers such as:\n",
    "\n",
    "<dl>\n",
    "    <strong> <dt>1. Children Column </dt> </strong>\n",
    "    <dd>\n",
    "        <li> Min person has -1 children which is something that can not exist</li>\n",
    "        <li> Max person has 20 children which is possible but according to <a href=\"https://ourworldindata.org/fertility-rate\"> data </a> \n",
    "             <br> &nbsp &nbsp &nbsp  family has mean of 2.5 children per family will have to look into this column</li>\n",
    "        <li> Some negative values, only 0.2% which is about 45 rows. Can consider to drop them</li>\n",
    "    </dd>\n",
    "</dl>\n",
    "\n",
    "<dl>\n",
    "    <strong> <dt>2. days_employed Column </dt> </strong>\n",
    "    <dd>\n",
    "        <li> Alot of negative values, almost 74% </li>\n",
    "        <li> About 10% of nulls </li>\n",
    "        <li> Max values is 401k which is 1110 years, impossible number</li>\n",
    "        <li> Total of about 85% invalid values for the column</li>\n",
    "    </dd>\n",
    "</dl>\n",
    "\n",
    "<dl>\n",
    "    <strong> <dt>3. total_income Column </dt> </strong>\n",
    "    <dd>\n",
    "        <li> About 10% of null values</li>\n",
    "    </dd>\n",
    "</dl>\n",
    "\n",
    "\n",
    "<dl>\n",
    "    <strong> <dt>4. dob_years Column </dt> </strong>\n",
    "    <dd>\n",
    "        <li> Min value of 0, impossible age, probably has to be over 18 to get a loan</li>\n",
    "    </dd>\n",
    "</dl>\n",
    "\n",
    "\n",
    "<dl>\n",
    "    <strong> <dt>5. family_status Column </dt> </strong>\n",
    "    <dd>\n",
    "        <li> Probably family_status and family_status_id are telling the same</li>\n",
    "    </dd>\n",
    "</dl>\n",
    "\n",
    "<dl>\n",
    "    <strong> <dt>6. gender Column </dt> </strong>\n",
    "    <dd>\n",
    "        <li> 3 unique, will have to look into it</li>\n",
    "</dl>\n",
    "\n",
    "<dl>\n",
    "    <strong> <dt>7. purpose Column </dt> </strong>\n",
    "    <dd>\n",
    "        <li> 38 different purposes, alot of mean the same such as: 'car', 'get a car' and so on, will need to dig into it</li>\n",
    "    </dd>\n",
    "</dl>\n",
    "\n",
    "<dl>\n",
    "    <strong> <dt>8. education Column </dt> </strong>\n",
    "    <dd>\n",
    "        <li> 15 different educations, need to inspect to check why only 5 education id.</li>\n",
    "    </dd>\n",
    "</dl>"
   ]
  },
  {
   "cell_type": "markdown",
   "metadata": {},
   "source": [
    "### Step 2. Data preprocessing"
   ]
  },
  {
   "cell_type": "code",
   "execution_count": 7,
   "metadata": {},
   "outputs": [],
   "source": [
    "dd = df.copy()"
   ]
  },
  {
   "cell_type": "markdown",
   "metadata": {},
   "source": [
    "As I saw from looking into the data about the column days_employed:\n",
    "* we have about 75% of negative values, 10% nulls therefor my decision is to  drop this column."
   ]
  },
  {
   "cell_type": "code",
   "execution_count": 8,
   "metadata": {},
   "outputs": [],
   "source": [
    "dd.drop(columns=['days_employed'],inplace=True)"
   ]
  },
  {
   "cell_type": "markdown",
   "metadata": {},
   "source": [
    "As I saw from looking into the data about children columns:\n",
    "* I have some impossible numbers, therefor I have to fix this. \n",
    "* I'll change -1 and to NaN then replace values with the median.\n",
    "* As for 20 children, we have 76 rows, this might affect so I will keep them for now."
   ]
  },
  {
   "cell_type": "code",
   "execution_count": 9,
   "metadata": {},
   "outputs": [
    {
     "data": {
      "text/plain": [
       " 0     14149\n",
       " 1      4818\n",
       " 2      2055\n",
       " 3       330\n",
       " 20       76\n",
       "-1        47\n",
       " 4        41\n",
       " 5         9\n",
       "Name: children, dtype: int64"
      ]
     },
     "execution_count": 9,
     "metadata": {},
     "output_type": "execute_result"
    }
   ],
   "source": [
    "dd['children'].value_counts()"
   ]
  },
  {
   "cell_type": "code",
   "execution_count": 10,
   "metadata": {},
   "outputs": [],
   "source": [
    "dd['children'] = dd[dd['children']!= -1]['children']\n",
    "dd['children'].fillna(dd['children'].median(),inplace=True)"
   ]
  },
  {
   "cell_type": "code",
   "execution_count": 11,
   "metadata": {},
   "outputs": [
    {
     "data": {
      "text/plain": [
       "0.0     14196\n",
       "1.0      4818\n",
       "2.0      2055\n",
       "3.0       330\n",
       "20.0       76\n",
       "4.0        41\n",
       "5.0         9\n",
       "Name: children, dtype: int64"
      ]
     },
     "execution_count": 11,
     "metadata": {},
     "output_type": "execute_result"
    }
   ],
   "source": [
    "dd['children'].value_counts()"
   ]
  },
  {
   "cell_type": "markdown",
   "metadata": {},
   "source": [
    "As I saw from looking into the data about dob_years columns:\n",
    "* I have some impossible age, therefor I have to fix this. "
   ]
  },
  {
   "cell_type": "code",
   "execution_count": 12,
   "metadata": {},
   "outputs": [
    {
     "data": {
      "text/plain": [
       "75      1\n",
       "74      6\n",
       "73      8\n",
       "19     14\n",
       "72     33\n",
       "20     51\n",
       "71     58\n",
       "70     65\n",
       "69     85\n",
       "68     99\n",
       "0     101\n",
       "21    111\n",
       "67    167\n",
       "22    183\n",
       "66    183\n",
       "65    194\n",
       "23    254\n",
       "24    264\n",
       "64    265\n",
       "63    269\n",
       "62    352\n",
       "61    355\n",
       "25    357\n",
       "60    377\n",
       "26    408\n",
       "55    443\n",
       "59    444\n",
       "51    448\n",
       "53    459\n",
       "57    460\n",
       "58    461\n",
       "46    475\n",
       "54    479\n",
       "47    480\n",
       "52    484\n",
       "56    487\n",
       "27    493\n",
       "45    497\n",
       "28    503\n",
       "49    508\n",
       "32    510\n",
       "43    513\n",
       "50    514\n",
       "37    537\n",
       "48    538\n",
       "30    540\n",
       "29    545\n",
       "44    547\n",
       "36    555\n",
       "31    560\n",
       "39    573\n",
       "33    581\n",
       "42    597\n",
       "38    598\n",
       "34    603\n",
       "41    607\n",
       "40    609\n",
       "35    617\n",
       "Name: dob_years, dtype: int64"
      ]
     },
     "execution_count": 12,
     "metadata": {},
     "output_type": "execute_result"
    }
   ],
   "source": [
    "dd['dob_years'].value_counts().sort_values()"
   ]
  },
  {
   "cell_type": "code",
   "execution_count": 13,
   "metadata": {},
   "outputs": [],
   "source": [
    "dd['dob_years'] = dd[dd['dob_years'] !=0]['dob_years']\n",
    "dd['dob_years'].fillna(dd['dob_years'].median(),inplace=True)"
   ]
  },
  {
   "cell_type": "code",
   "execution_count": 14,
   "metadata": {},
   "outputs": [
    {
     "data": {
      "text/plain": [
       "35.0    617\n",
       "43.0    614\n",
       "40.0    609\n",
       "41.0    607\n",
       "34.0    603\n",
       "38.0    598\n",
       "42.0    597\n",
       "33.0    581\n",
       "39.0    573\n",
       "31.0    560\n",
       "36.0    555\n",
       "44.0    547\n",
       "29.0    545\n",
       "30.0    540\n",
       "48.0    538\n",
       "37.0    537\n",
       "50.0    514\n",
       "32.0    510\n",
       "49.0    508\n",
       "28.0    503\n",
       "45.0    497\n",
       "27.0    493\n",
       "56.0    487\n",
       "52.0    484\n",
       "47.0    480\n",
       "54.0    479\n",
       "46.0    475\n",
       "58.0    461\n",
       "57.0    460\n",
       "53.0    459\n",
       "51.0    448\n",
       "59.0    444\n",
       "55.0    443\n",
       "26.0    408\n",
       "60.0    377\n",
       "25.0    357\n",
       "61.0    355\n",
       "62.0    352\n",
       "63.0    269\n",
       "64.0    265\n",
       "24.0    264\n",
       "23.0    254\n",
       "65.0    194\n",
       "66.0    183\n",
       "22.0    183\n",
       "67.0    167\n",
       "21.0    111\n",
       "68.0     99\n",
       "69.0     85\n",
       "70.0     65\n",
       "71.0     58\n",
       "20.0     51\n",
       "72.0     33\n",
       "19.0     14\n",
       "73.0      8\n",
       "74.0      6\n",
       "75.0      1\n",
       "Name: dob_years, dtype: int64"
      ]
     },
     "execution_count": 14,
     "metadata": {},
     "output_type": "execute_result"
    }
   ],
   "source": [
    "dd['dob_years'].value_counts()"
   ]
  },
  {
   "cell_type": "markdown",
   "metadata": {},
   "source": [
    "As I saw from looking into the data about gender column:\n",
    "* I have some wired gender, therefor I have to fix this. "
   ]
  },
  {
   "cell_type": "code",
   "execution_count": 15,
   "metadata": {},
   "outputs": [
    {
     "data": {
      "text/plain": [
       "F      14236\n",
       "M       7288\n",
       "XNA        1\n",
       "Name: gender, dtype: int64"
      ]
     },
     "execution_count": 15,
     "metadata": {},
     "output_type": "execute_result"
    }
   ],
   "source": [
    "dd['gender'].value_counts()"
   ]
  },
  {
   "cell_type": "code",
   "execution_count": 16,
   "metadata": {},
   "outputs": [],
   "source": [
    "#Randomly choosing M\n",
    "dd.loc[dd['gender'] == 'XNA','gender'] = 'M'"
   ]
  },
  {
   "cell_type": "code",
   "execution_count": 17,
   "metadata": {},
   "outputs": [
    {
     "data": {
      "text/plain": [
       "F    14236\n",
       "M     7289\n",
       "Name: gender, dtype: int64"
      ]
     },
     "execution_count": 17,
     "metadata": {},
     "output_type": "execute_result"
    }
   ],
   "source": [
    "dd['gender'].value_counts()"
   ]
  },
  {
   "cell_type": "code",
   "execution_count": 18,
   "metadata": {},
   "outputs": [
    {
     "data": {
      "text/html": [
       "<div>\n",
       "<style scoped>\n",
       "    .dataframe tbody tr th:only-of-type {\n",
       "        vertical-align: middle;\n",
       "    }\n",
       "\n",
       "    .dataframe tbody tr th {\n",
       "        vertical-align: top;\n",
       "    }\n",
       "\n",
       "    .dataframe thead th {\n",
       "        text-align: right;\n",
       "    }\n",
       "</style>\n",
       "<table border=\"1\" class=\"dataframe\">\n",
       "  <thead>\n",
       "    <tr style=\"text-align: right;\">\n",
       "      <th></th>\n",
       "      <th>children</th>\n",
       "      <th>dob_years</th>\n",
       "      <th>education</th>\n",
       "      <th>education_id</th>\n",
       "      <th>family_status</th>\n",
       "      <th>family_status_id</th>\n",
       "      <th>gender</th>\n",
       "      <th>income_type</th>\n",
       "      <th>debt</th>\n",
       "      <th>total_income</th>\n",
       "      <th>purpose</th>\n",
       "    </tr>\n",
       "  </thead>\n",
       "  <tbody>\n",
       "    <tr>\n",
       "      <td>0</td>\n",
       "      <td>1.0</td>\n",
       "      <td>42.0</td>\n",
       "      <td>masters degree</td>\n",
       "      <td>0</td>\n",
       "      <td>married</td>\n",
       "      <td>0</td>\n",
       "      <td>F</td>\n",
       "      <td>employee</td>\n",
       "      <td>0</td>\n",
       "      <td>253875.639453</td>\n",
       "      <td>purchase of the house</td>\n",
       "    </tr>\n",
       "  </tbody>\n",
       "</table>\n",
       "</div>"
      ],
      "text/plain": [
       "   children  dob_years       education  education_id family_status  \\\n",
       "0       1.0       42.0  masters degree             0       married   \n",
       "\n",
       "   family_status_id gender income_type  debt   total_income  \\\n",
       "0                 0      F    employee     0  253875.639453   \n",
       "\n",
       "                 purpose  \n",
       "0  purchase of the house  "
      ]
     },
     "execution_count": 18,
     "metadata": {},
     "output_type": "execute_result"
    }
   ],
   "source": [
    "dd.head(1)"
   ]
  },
  {
   "cell_type": "markdown",
   "metadata": {},
   "source": [
    "Inspect education column to check wheter some process is needed"
   ]
  },
  {
   "cell_type": "code",
   "execution_count": 19,
   "metadata": {},
   "outputs": [
    {
     "data": {
      "text/plain": [
       "secondary education    13750\n",
       "masters degree          4718\n",
       "SECONDARY EDUCATION      772\n",
       "Secondary Education      711\n",
       "bachelor degree          668\n",
       "MASTERS DEGREE           274\n",
       "Masters Degree           268\n",
       "primary education        250\n",
       "Bachelor Degree           47\n",
       "BACHELOR DEGREE           29\n",
       "PRIMARY EDUCATION         17\n",
       "Primary Education         15\n",
       "academic degree            4\n",
       "ACADEMIC DEGREE            1\n",
       "Academic Degree            1\n",
       "Name: education, dtype: int64"
      ]
     },
     "execution_count": 19,
     "metadata": {},
     "output_type": "execute_result"
    }
   ],
   "source": [
    "dd['education'].value_counts()"
   ]
  },
  {
   "cell_type": "code",
   "execution_count": 20,
   "metadata": {},
   "outputs": [
    {
     "data": {
      "text/plain": [
       "secondary education    15233\n",
       "masters degree          5260\n",
       "bachelor degree          744\n",
       "primary education        282\n",
       "academic degree            6\n",
       "Name: education, dtype: int64"
      ]
     },
     "execution_count": 20,
     "metadata": {},
     "output_type": "execute_result"
    }
   ],
   "source": [
    "dd['education'] = dd['education'].str.lower()\n",
    "dd['education'].value_counts()"
   ]
  },
  {
   "cell_type": "markdown",
   "metadata": {},
   "source": [
    "We can see that we fixed all of the values types because of upper and lower cases."
   ]
  },
  {
   "cell_type": "markdown",
   "metadata": {},
   "source": [
    "### Processing missing values"
   ]
  },
  {
   "cell_type": "code",
   "execution_count": 21,
   "metadata": {},
   "outputs": [
    {
     "name": "stdout",
     "output_type": "stream",
     "text": [
      "Column children has 0.00000% percent of Nulls\n",
      "Column dob_years has 0.00000% percent of Nulls\n",
      "Column education has 0.00000% percent of Nulls\n",
      "Column education_id has 0.00000% percent of Nulls\n",
      "Column family_status has 0.00000% percent of Nulls\n",
      "Column family_status_id has 0.00000% percent of Nulls\n",
      "Column gender has 0.00000% percent of Nulls\n",
      "Column income_type has 0.00000% percent of Nulls\n",
      "Column debt has 0.00000% percent of Nulls\n",
      "Column total_income has 10.09988% percent of Nulls\n",
      "Column purpose has 0.00000% percent of Nulls\n"
     ]
    }
   ],
   "source": [
    "get_percent_of_na(dd,5)"
   ]
  },
  {
   "cell_type": "markdown",
   "metadata": {},
   "source": [
    "As I saw from looking into the data about total_income column:\n",
    "* I have some null values, therefor I have to fix this. \n",
    "* My thinking is to group by income_type, education and family_status because that these columns can affect on your salary.\n",
    "  Then fill in missing values with median of the group."
   ]
  },
  {
   "cell_type": "code",
   "execution_count": 23,
   "metadata": {},
   "outputs": [
    {
     "data": {
      "text/plain": [
       "2174"
      ]
     },
     "execution_count": 23,
     "metadata": {},
     "output_type": "execute_result"
    }
   ],
   "source": [
    "group = dd.groupby(['family_status_id','children'])\n",
    "group['total_income'].apply(lambda x: x.isna().sum()).sum()"
   ]
  },
  {
   "cell_type": "code",
   "execution_count": 24,
   "metadata": {},
   "outputs": [],
   "source": [
    "dd['total_income'] = group['total_income'].apply(lambda x:x.fillna(x.median()))"
   ]
  },
  {
   "cell_type": "code",
   "execution_count": 25,
   "metadata": {},
   "outputs": [
    {
     "data": {
      "text/plain": [
       "0"
      ]
     },
     "execution_count": 25,
     "metadata": {},
     "output_type": "execute_result"
    }
   ],
   "source": [
    "# Checking if we still have missing values:\n",
    "group['total_income'].apply(lambda x: x.isna()).sum()"
   ]
  },
  {
   "cell_type": "markdown",
   "metadata": {},
   "source": [
    "### Conclusion"
   ]
  },
  {
   "cell_type": "code",
   "execution_count": 26,
   "metadata": {},
   "outputs": [
    {
     "data": {
      "text/html": [
       "<div>\n",
       "<style scoped>\n",
       "    .dataframe tbody tr th:only-of-type {\n",
       "        vertical-align: middle;\n",
       "    }\n",
       "\n",
       "    .dataframe tbody tr th {\n",
       "        vertical-align: top;\n",
       "    }\n",
       "\n",
       "    .dataframe thead th {\n",
       "        text-align: right;\n",
       "    }\n",
       "</style>\n",
       "<table border=\"1\" class=\"dataframe\">\n",
       "  <thead>\n",
       "    <tr style=\"text-align: right;\">\n",
       "      <th></th>\n",
       "      <th>children</th>\n",
       "      <th>dob_years</th>\n",
       "      <th>education</th>\n",
       "      <th>education_id</th>\n",
       "      <th>family_status</th>\n",
       "      <th>family_status_id</th>\n",
       "      <th>gender</th>\n",
       "      <th>income_type</th>\n",
       "      <th>debt</th>\n",
       "      <th>total_income</th>\n",
       "      <th>purpose</th>\n",
       "    </tr>\n",
       "  </thead>\n",
       "  <tbody>\n",
       "    <tr>\n",
       "      <td>0</td>\n",
       "      <td>1.0</td>\n",
       "      <td>42.0</td>\n",
       "      <td>masters degree</td>\n",
       "      <td>0</td>\n",
       "      <td>married</td>\n",
       "      <td>0</td>\n",
       "      <td>F</td>\n",
       "      <td>employee</td>\n",
       "      <td>0</td>\n",
       "      <td>253875.639453</td>\n",
       "      <td>purchase of the house</td>\n",
       "    </tr>\n",
       "    <tr>\n",
       "      <td>1</td>\n",
       "      <td>1.0</td>\n",
       "      <td>36.0</td>\n",
       "      <td>secondary education</td>\n",
       "      <td>1</td>\n",
       "      <td>married</td>\n",
       "      <td>0</td>\n",
       "      <td>F</td>\n",
       "      <td>employee</td>\n",
       "      <td>0</td>\n",
       "      <td>112080.014102</td>\n",
       "      <td>car purchase</td>\n",
       "    </tr>\n",
       "  </tbody>\n",
       "</table>\n",
       "</div>"
      ],
      "text/plain": [
       "   children  dob_years            education  education_id family_status  \\\n",
       "0       1.0       42.0       masters degree             0       married   \n",
       "1       1.0       36.0  secondary education             1       married   \n",
       "\n",
       "   family_status_id gender income_type  debt   total_income  \\\n",
       "0                 0      F    employee     0  253875.639453   \n",
       "1                 0      F    employee     0  112080.014102   \n",
       "\n",
       "                 purpose  \n",
       "0  purchase of the house  \n",
       "1           car purchase  "
      ]
     },
     "execution_count": 26,
     "metadata": {},
     "output_type": "execute_result"
    }
   ],
   "source": [
    "dd.head(2)"
   ]
  },
  {
   "cell_type": "markdown",
   "metadata": {},
   "source": [
    "After I have investigated the columns and fixed the values I can continue to my resreach. <br>\n",
    "The only column that had Null values was total_income and I have dealt with it."
   ]
  },
  {
   "cell_type": "markdown",
   "metadata": {},
   "source": [
    "### Data type replacement"
   ]
  },
  {
   "cell_type": "code",
   "execution_count": 26,
   "metadata": {},
   "outputs": [
    {
     "data": {
      "text/plain": [
       "children            float64\n",
       "dob_years           float64\n",
       "education            object\n",
       "education_id          int64\n",
       "family_status        object\n",
       "family_status_id      int64\n",
       "gender               object\n",
       "income_type          object\n",
       "debt                  int64\n",
       "total_income        float64\n",
       "purpose              object\n",
       "dtype: object"
      ]
     },
     "execution_count": 26,
     "metadata": {},
     "output_type": "execute_result"
    }
   ],
   "source": [
    "dd.dtypes"
   ]
  },
  {
   "cell_type": "markdown",
   "metadata": {},
   "source": [
    "### Conclusion"
   ]
  },
  {
   "cell_type": "markdown",
   "metadata": {},
   "source": [
    "Every column has its right type! <br>\n",
    "I can continue."
   ]
  },
  {
   "cell_type": "markdown",
   "metadata": {},
   "source": [
    "### Processing duplicates"
   ]
  },
  {
   "cell_type": "markdown",
   "metadata": {},
   "source": [
    "Firstly, I will check how many duplicates I have, after that drop the rows."
   ]
  },
  {
   "cell_type": "code",
   "execution_count": 27,
   "metadata": {},
   "outputs": [
    {
     "data": {
      "text/plain": [
       "71"
      ]
     },
     "execution_count": 27,
     "metadata": {},
     "output_type": "execute_result"
    }
   ],
   "source": [
    "dd.duplicated().sum()"
   ]
  },
  {
   "cell_type": "code",
   "execution_count": 28,
   "metadata": {},
   "outputs": [
    {
     "data": {
      "text/plain": [
       "(21454, 11)"
      ]
     },
     "execution_count": 28,
     "metadata": {},
     "output_type": "execute_result"
    }
   ],
   "source": [
    "dd = dd.drop_duplicates().reset_index(drop=True)\n",
    "dd.shape"
   ]
  },
  {
   "cell_type": "markdown",
   "metadata": {},
   "source": [
    "### Conclusion"
   ]
  },
  {
   "cell_type": "markdown",
   "metadata": {},
   "source": [
    "We did not have too much duplicates, which is good, we lost only 71 rows."
   ]
  },
  {
   "cell_type": "markdown",
   "metadata": {},
   "source": [
    "### Lemmatization"
   ]
  },
  {
   "cell_type": "markdown",
   "metadata": {},
   "source": [
    "Lets take a look into the purpose column:"
   ]
  },
  {
   "cell_type": "code",
   "execution_count": 29,
   "metadata": {},
   "outputs": [
    {
     "data": {
      "text/plain": [
       "['wedding ceremony',\n",
       " 'having a wedding',\n",
       " 'to have a wedding',\n",
       " 'real estate transactions',\n",
       " 'buy commercial real estate',\n",
       " 'housing transactions',\n",
       " 'buying property for renting out',\n",
       " 'transactions with the residential real estate',\n",
       " 'purchase of the house',\n",
       " 'housing',\n",
       " 'purchase of the house for my family',\n",
       " 'construction of own property',\n",
       " 'property',\n",
       " 'transactions with my real estate',\n",
       " 'building a real estate',\n",
       " 'buy real estate',\n",
       " 'purchase of my own house',\n",
       " 'building a property',\n",
       " 'property renovation',\n",
       " 'buy residential real estate',\n",
       " 'buying my own car',\n",
       " 'going to university',\n",
       " 'car',\n",
       " 'second-hand car purchase',\n",
       " 'buying a second-hand car',\n",
       " 'to own a car',\n",
       " 'cars',\n",
       " 'to buy a car',\n",
       " 'car purchase',\n",
       " 'supplementary education',\n",
       " 'purchase of a car',\n",
       " 'university education',\n",
       " 'education',\n",
       " 'to get asupplementary education',\n",
       " 'getting an education',\n",
       " 'profile education',\n",
       " 'getting higher education',\n",
       " 'to become educated']"
      ]
     },
     "execution_count": 29,
     "metadata": {},
     "output_type": "execute_result"
    }
   ],
   "source": [
    "values = dd['purpose'].value_counts().index.tolist()\n",
    "values"
   ]
  },
  {
   "cell_type": "markdown",
   "metadata": {},
   "source": [
    "Trying to find something with lemmas:"
   ]
  },
  {
   "cell_type": "code",
   "execution_count": 30,
   "metadata": {},
   "outputs": [
    {
     "name": "stderr",
     "output_type": "stream",
     "text": [
      "[nltk_data] Downloading package stopwords to /home/jovyan/nltk_data...\n",
      "[nltk_data]   Unzipping corpora/stopwords.zip.\n"
     ]
    }
   ],
   "source": [
    "import nltk\n",
    "from nltk.stem import WordNetLemmatizer\n",
    "wordnet_lemma = WordNetLemmatizer()\n",
    "# importing to remove stopwords\n",
    "from nltk.corpus import stopwords\n",
    "nltk.download('stopwords')\n",
    "stop_words = stopwords.words('english')"
   ]
  },
  {
   "cell_type": "code",
   "execution_count": 31,
   "metadata": {},
   "outputs": [
    {
     "data": {
      "text/plain": [
       "['wedding ceremony',\n",
       " 'having a wedding',\n",
       " 'to have a wedding',\n",
       " 'real estate transactions',\n",
       " 'buy commercial real estate',\n",
       " 'housing transactions',\n",
       " 'buying property for renting out',\n",
       " 'transactions with the residential real estate',\n",
       " 'purchase of the house',\n",
       " 'housing',\n",
       " 'purchase of the house for my family',\n",
       " 'construction of own property',\n",
       " 'property',\n",
       " 'transactions with my real estate',\n",
       " 'building a real estate',\n",
       " 'buy real estate',\n",
       " 'purchase of my own house',\n",
       " 'building a property',\n",
       " 'property renovation',\n",
       " 'buy residential real estate',\n",
       " 'buying my own car',\n",
       " 'going to university',\n",
       " 'car',\n",
       " 'second-hand car purchase',\n",
       " 'buying a second-hand car',\n",
       " 'to own a car',\n",
       " 'car',\n",
       " 'to buy a car',\n",
       " 'car purchase',\n",
       " 'supplementary education',\n",
       " 'purchase of a car',\n",
       " 'university education',\n",
       " 'education',\n",
       " 'to get asupplementary education',\n",
       " 'getting an education',\n",
       " 'profile education',\n",
       " 'getting higher education',\n",
       " 'to become educated']"
      ]
     },
     "execution_count": 31,
     "metadata": {},
     "output_type": "execute_result"
    }
   ],
   "source": [
    "[wordnet_lemma.lemmatize(w, pos = 'n') for w in values]"
   ]
  },
  {
   "cell_type": "markdown",
   "metadata": {},
   "source": [
    "There is no change, lets try another thing."
   ]
  },
  {
   "cell_type": "code",
   "execution_count": 32,
   "metadata": {},
   "outputs": [
    {
     "data": {
      "text/plain": [
       "[['wedding', 'ceremony'],\n",
       " ['wedding'],\n",
       " ['wedding'],\n",
       " ['real', 'estate', 'transactions'],\n",
       " ['buy', 'commercial', 'real', 'estate'],\n",
       " ['housing', 'transactions'],\n",
       " ['buying', 'property', 'renting'],\n",
       " ['transactions', 'residential', 'real', 'estate'],\n",
       " ['purchase', 'house'],\n",
       " ['housing'],\n",
       " ['purchase', 'house', 'family'],\n",
       " ['construction', 'property'],\n",
       " ['property'],\n",
       " ['transactions', 'real', 'estate'],\n",
       " ['building', 'real', 'estate'],\n",
       " ['buy', 'real', 'estate'],\n",
       " ['purchase', 'house'],\n",
       " ['building', 'property'],\n",
       " ['property', 'renovation'],\n",
       " ['buy', 'residential', 'real', 'estate'],\n",
       " ['buying', 'car'],\n",
       " ['going', 'university'],\n",
       " ['car'],\n",
       " ['second-hand', 'car', 'purchase'],\n",
       " ['buying', 'second-hand', 'car'],\n",
       " ['car'],\n",
       " ['cars'],\n",
       " ['buy', 'car'],\n",
       " ['car', 'purchase'],\n",
       " ['supplementary', 'education'],\n",
       " ['purchase', 'car'],\n",
       " ['university', 'education'],\n",
       " ['education'],\n",
       " ['get', 'asupplementary', 'education'],\n",
       " ['getting', 'education'],\n",
       " ['profile', 'education'],\n",
       " ['getting', 'higher', 'education'],\n",
       " ['become', 'educated']]"
      ]
     },
     "execution_count": 32,
     "metadata": {},
     "output_type": "execute_result"
    }
   ],
   "source": [
    "words = [val.split() for val in values]\n",
    "remove_stop = []\n",
    "i = 0\n",
    "for val in words:\n",
    "    new_val = val\n",
    "    for stop in stop_words:\n",
    "        if stop in val:\n",
    "            new_val.remove(stop)\n",
    "    remove_stop.append(new_val)\n",
    "    \n",
    "remove_stop"
   ]
  },
  {
   "cell_type": "markdown",
   "metadata": {},
   "source": [
    "Adding stemming to understand better:"
   ]
  },
  {
   "cell_type": "code",
   "execution_count": 33,
   "metadata": {},
   "outputs": [
    {
     "data": {
      "text/plain": [
       "[('car', 9),\n",
       " ('educ', 8),\n",
       " ('real', 7),\n",
       " ('estat', 7),\n",
       " ('buy', 7),\n",
       " ('purchas', 6),\n",
       " ('hous', 5),\n",
       " ('properti', 5),\n",
       " ('transact', 4),\n",
       " ('wed', 3),\n",
       " ('get', 3),\n",
       " ('residenti', 2),\n",
       " ('build', 2),\n",
       " ('univers', 2),\n",
       " ('second-hand', 2),\n",
       " ('ceremoni', 1),\n",
       " ('commerci', 1),\n",
       " ('rent', 1),\n",
       " ('famili', 1),\n",
       " ('construct', 1),\n",
       " ('renov', 1),\n",
       " ('go', 1),\n",
       " ('supplementari', 1),\n",
       " ('asupplementari', 1),\n",
       " ('profil', 1),\n",
       " ('higher', 1),\n",
       " ('becom', 1)]"
      ]
     },
     "execution_count": 33,
     "metadata": {},
     "output_type": "execute_result"
    }
   ],
   "source": [
    "from nltk.stem import PorterStemmer\n",
    "porter = PorterStemmer()\n",
    "d = [porter.stem(item) for word in words for item in word]\n",
    "\n",
    "dic = {}\n",
    "for item in d:\n",
    "    dic[item] = dic.get(item,0) + 1\n",
    "    \n",
    "sorted(dic.items(), key=lambda item: -item[1])"
   ]
  },
  {
   "cell_type": "markdown",
   "metadata": {},
   "source": [
    "### Conclusion"
   ]
  },
  {
   "cell_type": "markdown",
   "metadata": {},
   "source": [
    "After filtering the unique values I can tell that we have some unique groups: car, educ, buy real estate, hous property, wed"
   ]
  },
  {
   "cell_type": "markdown",
   "metadata": {},
   "source": [
    "### Categorizing Data"
   ]
  },
  {
   "cell_type": "code",
   "execution_count": 34,
   "metadata": {},
   "outputs": [
    {
     "data": {
      "text/html": [
       "<div>\n",
       "<style scoped>\n",
       "    .dataframe tbody tr th:only-of-type {\n",
       "        vertical-align: middle;\n",
       "    }\n",
       "\n",
       "    .dataframe tbody tr th {\n",
       "        vertical-align: top;\n",
       "    }\n",
       "\n",
       "    .dataframe thead th {\n",
       "        text-align: right;\n",
       "    }\n",
       "</style>\n",
       "<table border=\"1\" class=\"dataframe\">\n",
       "  <thead>\n",
       "    <tr style=\"text-align: right;\">\n",
       "      <th></th>\n",
       "      <th>children</th>\n",
       "      <th>dob_years</th>\n",
       "      <th>education</th>\n",
       "      <th>education_id</th>\n",
       "      <th>family_status</th>\n",
       "      <th>family_status_id</th>\n",
       "      <th>gender</th>\n",
       "      <th>income_type</th>\n",
       "      <th>debt</th>\n",
       "      <th>total_income</th>\n",
       "      <th>purpose</th>\n",
       "    </tr>\n",
       "  </thead>\n",
       "  <tbody>\n",
       "    <tr>\n",
       "      <td>0</td>\n",
       "      <td>1.0</td>\n",
       "      <td>42.0</td>\n",
       "      <td>masters degree</td>\n",
       "      <td>0</td>\n",
       "      <td>married</td>\n",
       "      <td>0</td>\n",
       "      <td>F</td>\n",
       "      <td>employee</td>\n",
       "      <td>0</td>\n",
       "      <td>253875.639453</td>\n",
       "      <td>purchase of the house</td>\n",
       "    </tr>\n",
       "  </tbody>\n",
       "</table>\n",
       "</div>"
      ],
      "text/plain": [
       "   children  dob_years       education  education_id family_status  \\\n",
       "0       1.0       42.0  masters degree             0       married   \n",
       "\n",
       "   family_status_id gender income_type  debt   total_income  \\\n",
       "0                 0      F    employee     0  253875.639453   \n",
       "\n",
       "                 purpose  \n",
       "0  purchase of the house  "
      ]
     },
     "execution_count": 34,
     "metadata": {},
     "output_type": "execute_result"
    }
   ],
   "source": [
    "dd.head(1)"
   ]
  },
  {
   "cell_type": "code",
   "execution_count": 35,
   "metadata": {},
   "outputs": [],
   "source": [
    "#create a dict from two columns that means the same so can drop the other one.\n",
    "family_status_dict = get_dict(dd,['family_status','family_status_id'])\n",
    "dd.drop(columns=['family_status_id'],inplace=True)"
   ]
  },
  {
   "cell_type": "code",
   "execution_count": 36,
   "metadata": {},
   "outputs": [],
   "source": [
    "#create a dict from two columns that means the same so can drop the other one.\n",
    "edu_status_dict = get_dict(dd,['education','education_id'])\n",
    "dd.drop(columns=['education_id'],inplace=True)"
   ]
  },
  {
   "cell_type": "code",
   "execution_count": 37,
   "metadata": {},
   "outputs": [],
   "source": [
    "#categorize purpose column\n",
    "dd['purpose_categorize'] = dd['purpose'].apply(categorize_purpose)"
   ]
  },
  {
   "cell_type": "code",
   "execution_count": 38,
   "metadata": {},
   "outputs": [],
   "source": [
    "# categorize total_income category to handle continuous variable\n",
    "# I decide to make 4 categoies: low, medium,medium-high, high\n",
    "dd['total_income_category'] = get_total_income_category(dd,'total_income','total_income_category')"
   ]
  },
  {
   "cell_type": "markdown",
   "metadata": {},
   "source": [
    "### Conclusion"
   ]
  },
  {
   "cell_type": "code",
   "execution_count": 39,
   "metadata": {},
   "outputs": [
    {
     "data": {
      "text/html": [
       "<div>\n",
       "<style scoped>\n",
       "    .dataframe tbody tr th:only-of-type {\n",
       "        vertical-align: middle;\n",
       "    }\n",
       "\n",
       "    .dataframe tbody tr th {\n",
       "        vertical-align: top;\n",
       "    }\n",
       "\n",
       "    .dataframe thead th {\n",
       "        text-align: right;\n",
       "    }\n",
       "</style>\n",
       "<table border=\"1\" class=\"dataframe\">\n",
       "  <thead>\n",
       "    <tr style=\"text-align: right;\">\n",
       "      <th></th>\n",
       "      <th>children</th>\n",
       "      <th>dob_years</th>\n",
       "      <th>education</th>\n",
       "      <th>family_status</th>\n",
       "      <th>gender</th>\n",
       "      <th>income_type</th>\n",
       "      <th>debt</th>\n",
       "      <th>total_income</th>\n",
       "      <th>purpose</th>\n",
       "      <th>purpose_categorize</th>\n",
       "      <th>total_income_category</th>\n",
       "    </tr>\n",
       "  </thead>\n",
       "  <tbody>\n",
       "    <tr>\n",
       "      <td>0</td>\n",
       "      <td>1.0</td>\n",
       "      <td>42.0</td>\n",
       "      <td>masters degree</td>\n",
       "      <td>married</td>\n",
       "      <td>F</td>\n",
       "      <td>employee</td>\n",
       "      <td>0</td>\n",
       "      <td>253875.639453</td>\n",
       "      <td>purchase of the house</td>\n",
       "      <td>house</td>\n",
       "      <td>High</td>\n",
       "    </tr>\n",
       "    <tr>\n",
       "      <td>1</td>\n",
       "      <td>1.0</td>\n",
       "      <td>36.0</td>\n",
       "      <td>secondary education</td>\n",
       "      <td>married</td>\n",
       "      <td>F</td>\n",
       "      <td>employee</td>\n",
       "      <td>0</td>\n",
       "      <td>112080.014102</td>\n",
       "      <td>car purchase</td>\n",
       "      <td>car</td>\n",
       "      <td>Medium</td>\n",
       "    </tr>\n",
       "  </tbody>\n",
       "</table>\n",
       "</div>"
      ],
      "text/plain": [
       "   children  dob_years            education family_status gender income_type  \\\n",
       "0       1.0       42.0       masters degree       married      F    employee   \n",
       "1       1.0       36.0  secondary education       married      F    employee   \n",
       "\n",
       "   debt   total_income                purpose purpose_categorize  \\\n",
       "0     0  253875.639453  purchase of the house              house   \n",
       "1     0  112080.014102           car purchase                car   \n",
       "\n",
       "  total_income_category  \n",
       "0                  High  \n",
       "1                Medium  "
      ]
     },
     "execution_count": 39,
     "metadata": {},
     "output_type": "execute_result"
    }
   ],
   "source": [
    "dd.head(2)"
   ]
  },
  {
   "cell_type": "markdown",
   "metadata": {},
   "source": [
    "I have dropped two columns and created a dictionary so I do not lose information. Both dropped column had the same meaning as other column so I did not need to keep it. <br><br> About purpose column I have decided to categorized it into 6 groups: house, real estate, car, education, wedding and other.<br> After counting the values I can tell that I might have caught all of the groups (no 'other' group).\n",
    "<br><br>\n",
    "I also decided to create a category column from the total_income for later use."
   ]
  },
  {
   "cell_type": "markdown",
   "metadata": {},
   "source": [
    "### Step 3. Answer these questions"
   ]
  },
  {
   "cell_type": "markdown",
   "metadata": {},
   "source": [
    "- Is there a relation between having kids and repaying a loan on time?"
   ]
  },
  {
   "cell_type": "code",
   "execution_count": 42,
   "metadata": {},
   "outputs": [
    {
     "data": {
      "text/plain": [
       "0.9074630945872061"
      ]
     },
     "execution_count": 42,
     "metadata": {},
     "output_type": "execute_result"
    }
   ],
   "source": [
    "dd[(dd['children'] >0) & (dd['debt'] == 0)].shape[0] / dd[dd['children'] >0].shape[0]"
   ]
  },
  {
   "cell_type": "markdown",
   "metadata": {},
   "source": [
    "### Conclusion"
   ]
  },
  {
   "cell_type": "code",
   "execution_count": 41,
   "metadata": {},
   "outputs": [
    {
     "data": {
      "text/plain": [
       "<matplotlib.axes._subplots.AxesSubplot at 0x7f239c6edac8>"
      ]
     },
     "execution_count": 41,
     "metadata": {},
     "output_type": "execute_result"
    },
    {
     "data": {
      "image/png": "[encoded data removed]",
      "text/plain": [
       "<Figure size 432x288 with 1 Axes>"
      ]
     },
     "metadata": {
      "needs_background": "light"
     },
     "output_type": "display_data"
    }
   ],
   "source": [
    "sns.barplot(x=[0,1], y=dd[dd['children'] >0]['debt'].value_counts(normalize=True))"
   ]
  },
  {
   "cell_type": "markdown",
   "metadata": {},
   "source": [
    "90% of the customers that have children pay theirs debt!"
   ]
  },
  {
   "cell_type": "markdown",
   "metadata": {},
   "source": [
    "- Is there a relation between marital status and repaying a loan on time?"
   ]
  },
  {
   "cell_type": "code",
   "execution_count": 43,
   "metadata": {},
   "outputs": [
    {
     "name": "stdout",
     "output_type": "stream",
     "text": [
      "92.45% of the family status married have paid theirs loans\n",
      "90.65% of the family status civil partnership have paid theirs loans\n",
      "93.43% of the family status widow / widower have paid theirs loans\n",
      "92.89% of the family status divorced have paid theirs loans\n",
      "90.25% of the family status unmarried have paid theirs loans\n"
     ]
    }
   ],
   "source": [
    "for status in family_status_dict.values():\n",
    "    perc = dd[(dd['family_status'] == status) & (dd['debt'] == 0)].shape[0] / dd[(dd['family_status'] == status)].shape[0]\n",
    "    print('{:.2%} of the family status {} have paid theirs loans'.format(perc,status))"
   ]
  },
  {
   "cell_type": "markdown",
   "metadata": {},
   "source": [
    "### Conclusion"
   ]
  },
  {
   "cell_type": "markdown",
   "metadata": {},
   "source": [
    "I can tell that at least of 90% for every family status pay back theirs loan.\n",
    "I can conclude that there is no relation between family status and repaying back the loan."
   ]
  },
  {
   "cell_type": "markdown",
   "metadata": {},
   "source": [
    "- Is there a relation between income level and repaying a loan on time?"
   ]
  },
  {
   "cell_type": "code",
   "execution_count": 44,
   "metadata": {},
   "outputs": [
    {
     "name": "stdout",
     "output_type": "stream",
     "text": [
      "92.86% of income level High have paid theirs loans\n",
      "91.22% of income level Medium have paid theirs loans\n",
      "91.40% of income level Medium-High have paid theirs loans\n",
      "92.04% of income level Low have paid theirs loans\n"
     ]
    }
   ],
   "source": [
    "for status in set(dd['total_income_category']):\n",
    "    perc = dd[(dd['total_income_category'] == status) & (dd['debt'] == 0)].shape[0] / dd[(dd['total_income_category'] == status)].shape[0]\n",
    "    print('{:.2%} of income level {} have paid theirs loans'.format(perc,status))"
   ]
  },
  {
   "cell_type": "markdown",
   "metadata": {},
   "source": [
    "### Conclusion"
   ]
  },
  {
   "cell_type": "markdown",
   "metadata": {},
   "source": [
    "As I can see, it does not matter what is the income level of a customer, 90% of the times they pay it back."
   ]
  },
  {
   "cell_type": "markdown",
   "metadata": {},
   "source": [
    "- How do different loan purposes affect on-time repayment of the loan?"
   ]
  },
  {
   "cell_type": "code",
   "execution_count": 45,
   "metadata": {},
   "outputs": [
    {
     "name": "stdout",
     "output_type": "stream",
     "text": [
      "90.64% of purpose category car have paid theirs loans\n",
      "92.97% of purpose category house have paid theirs loans\n",
      "92.47% of purpose category real estate have paid theirs loans\n",
      "90.78% of purpose category education have paid theirs loans\n",
      "92.00% of purpose category wedding have paid theirs loans\n"
     ]
    }
   ],
   "source": [
    "for status in set(dd['purpose_categorize']):\n",
    "    perc = dd[(dd['purpose_categorize'] == status) & (dd['debt'] == 0)].shape[0] / dd[(dd['purpose_categorize'] == status)].shape[0]\n",
    "    print('{:.2%} of purpose category {} have paid theirs loans'.format(perc,status))"
   ]
  },
  {
   "cell_type": "markdown",
   "metadata": {},
   "source": [
    "### Conclusion"
   ]
  },
  {
   "cell_type": "markdown",
   "metadata": {},
   "source": [
    "As I can see, it does not matter what is the income level of a customer, 90% of the times they pay it back."
   ]
  },
  {
   "cell_type": "markdown",
   "metadata": {},
   "source": [
    "### Step 4. General conclusion"
   ]
  },
  {
   "cell_type": "markdown",
   "metadata": {},
   "source": [
    "After my investigation of the data I conclude that neither the customers martial status nor his number of children have an impact of his will to repay his debt. <br>\n",
    "None of the variable that were inspected had a blurry conclusion, it was determined that every one paid theirs debt (more than 90% for each inspected case. <br> <br>\n",
    "\n",
    "To conclude, my final decision is that none of martial status, number of children, total_income, education can tell us if the customer will not repay his debt.\n"
   ]
  },
  {
   "cell_type": "markdown",
   "metadata": {},
   "source": [
    "### Project Readiness Checklist\n",
    "\n",
    "Put 'x' in the completed points. Then press Shift + Enter."
   ]
  },
  {
   "cell_type": "markdown",
   "metadata": {},
   "source": [
    "- [x]  file open;\n",
    "- [x]  file examined;\n",
    "- [x]  missing values defined;\n",
    "- [x]  missing values are filled;\n",
    "- [x]  an explanation of which missing value types were detected;\n",
    "- [x]  explanation for the possible causes of missing values;\n",
    "- [x]  an explanation of how the blanks are filled;\n",
    "- [x]  replaced the real data type with an integer;\n",
    "- [x]  an explanation of which method is used to change the data type and why;\n",
    "- [x]  duplicates deleted;\n",
    "- [x]  an explanation of which method is used to find and remove duplicates;\n",
    "- [x]  description of the possible reasons for the appearance of duplicates in the data;\n",
    "- [x]  highlighted lemmas in the values of the loan purpose column;\n",
    "- [x]  the lemmatization process is described;\n",
    "- [x]  data is categorized;\n",
    "- [x]  an explanation of the principle of data categorization;\n",
    "- [x]  an answer to the question \"Is there a relation between having kids and repaying a loan on time?\";\n",
    "- [x]  an answer to the question \" Is there a relation between marital status and repaying a loan on time?\";\n",
    "- [x]   an answer to the question \" Is there a relation between income level and repaying a loan on time?\";\n",
    "- [x]  an answer to the question \" How do different loan purposes affect on-time repayment of the loan?\"\n",
    "- [x]  conclusions are present on each stage;\n",
    "- [x]  a general conclusion is made."
   ]
  }
 ],
 "metadata": {
  "kernelspec": {
   "display_name": "Python 3",
   "language": "python",
   "name": "python3"
  },
  "language_info": {
   "codemirror_mode": {
    "name": "ipython",
    "version": 3
   },
   "file_extension": ".py",
   "mimetype": "text/x-python",
   "name": "python",
   "nbconvert_exporter": "python",
   "pygments_lexer": "ipython3",
   "version": "3.7.4"
  }
 },
 "nbformat": 4,
 "nbformat_minor": 4
}
