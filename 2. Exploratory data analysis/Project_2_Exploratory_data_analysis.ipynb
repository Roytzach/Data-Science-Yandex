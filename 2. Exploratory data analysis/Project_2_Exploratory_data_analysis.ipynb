{
 "cells": [
  {
   "cell_type": "markdown",
   "metadata": {},
   "source": [
    "# Research on apartment sales ads\n",
    "\n",
    "You will have the data from a real estate agency. It is an archive of sales ads for realty in St. Petersburg, Russia, and the surrounding areas collected over the past few years. You’ll need to learn how to determine the market value of real estate properties. Your task is to define the parameters. This will make it possible to build an automated system that is capable of detecting anomalies and fraudulent activity.\n",
    "\n",
    "There are two different types of data available for every apartment for sale. The first type is a user’s input. The second type is received automatically based upon the map data. For example, the distance from the downtown area, airport, the nearest park or body of water. "
   ]
  },
  {
   "cell_type": "markdown",
   "metadata": {},
   "source": [
    "# General Functions"
   ]
  },
  {
   "cell_type": "code",
   "execution_count": 1,
   "metadata": {},
   "outputs": [],
   "source": [
    "def get_percent_of_na(df,num):\n",
    "    count = 0\n",
    "    df = df.copy()\n",
    "    s = (df.isna().sum() / df.shape[0])\n",
    "    for column, percent in zip(s.index,s.values):\n",
    "        \n",
    "        num_of_nulls = df[column].isna().sum()\n",
    "        if num_of_nulls == 0:\n",
    "            continue\n",
    "        else:\n",
    "            count += 1\n",
    "        print('Column {} has {:.{}%} percent of Nulls, and {} of nulls'.format(column, percent,num,num_of_nulls))\n",
    "        \n",
    "    if count !=0:\n",
    "        print('There are {} columns with NA!'.format(count))\n",
    "    else:\n",
    "        print()\n",
    "        print('There are no columns with NA!')\n",
    "    pass\n",
    "\n",
    "        \n",
    "        \n",
    "def get_value_counts(df):\n",
    "    df = df.copy()\n",
    "    for col in df.columns:\n",
    "        print('Values for the column: {}'.format(col), df[col].value_counts(),sep='\\n')\n",
    "    pass\n",
    "\n",
    "\n",
    "def fill_NA(df,groupby,columns,func):\n",
    "    if not isinstance(columns,list):\n",
    "        raise ValueError('Need to be a list')\n",
    "    df = df.copy()\n",
    "    for col in columns:\n",
    "        df[col] = df.groupby(groupby)[col].apply(lambda x: x.fillna(func(x)))\n",
    "        df[col] = df[col].fillna(0).round()\n",
    "    return df\n",
    "\n",
    "\n",
    "def find_pairs_with_correlation_above(df, columns, threshold):\n",
    "        '''\n",
    "            :param df: dataframe rows are deals, columns are property characteristics \n",
    "            :param columns: subset of the numerical columns in the df\n",
    "            :return: list of tuples: [(attr_name, attr_name, correlation)] of pairs of columns with absolute correlation \n",
    "                above threshold\n",
    "        '''\n",
    "        correlation_matrix = df.corr().round(5)\n",
    "        c = correlation_matrix.stack().drop_duplicates().reset_index().values\n",
    "        tp = [tuple(x) for x in c if abs(x[2]) >= threshold and abs(x[2])!=1]\n",
    "        return tp\n",
    "    \n",
    "    \n",
    "def get_numerical_columns(df):\n",
    "        '''\n",
    "            The function returns a list of names of all numerical columns in self.df\n",
    "            :return: a list with columns names that correspond to columns with numerical data;\n",
    "        '''\n",
    "        return [x for x in df.columns if np.issubdtype(df[x],np.number)]"
   ]
  },
  {
   "cell_type": "markdown",
   "metadata": {},
   "source": [
    "### Step 1. Open the data file and study the general information. "
   ]
  },
  {
   "cell_type": "code",
   "execution_count": 2,
   "metadata": {},
   "outputs": [],
   "source": [
    "import pandas as pd\n",
    "import numpy as np\n",
    "import matplotlib.pyplot as plt\n",
    "import seaborn as sns \n",
    "import warnings\n",
    "warnings.filterwarnings('ignore')\n",
    "\n",
    "df = pd.read_csv('data.csv')"
   ]
  },
  {
   "cell_type": "code",
   "execution_count": 3,
   "metadata": {},
   "outputs": [
    {
     "data": {
      "text/html": [
       "<div>\n",
       "<style scoped>\n",
       "    .dataframe tbody tr th:only-of-type {\n",
       "        vertical-align: middle;\n",
       "    }\n",
       "\n",
       "    .dataframe tbody tr th {\n",
       "        vertical-align: top;\n",
       "    }\n",
       "\n",
       "    .dataframe thead th {\n",
       "        text-align: right;\n",
       "    }\n",
       "</style>\n",
       "<table border=\"1\" class=\"dataframe\">\n",
       "  <thead>\n",
       "    <tr style=\"text-align: right;\">\n",
       "      <th></th>\n",
       "      <th>total_images</th>\n",
       "      <th>last_price</th>\n",
       "      <th>total_area</th>\n",
       "      <th>first_day_exposition</th>\n",
       "      <th>rooms</th>\n",
       "      <th>ceiling_height</th>\n",
       "      <th>floors_total</th>\n",
       "      <th>living_area</th>\n",
       "      <th>floor</th>\n",
       "      <th>is_apartment</th>\n",
       "      <th>...</th>\n",
       "      <th>kitchen_area</th>\n",
       "      <th>balcony</th>\n",
       "      <th>locality_name</th>\n",
       "      <th>airports_nearest</th>\n",
       "      <th>cityCenters_nearest</th>\n",
       "      <th>parks_around3000</th>\n",
       "      <th>parks_nearest</th>\n",
       "      <th>ponds_around3000</th>\n",
       "      <th>ponds_nearest</th>\n",
       "      <th>days_exposition</th>\n",
       "    </tr>\n",
       "  </thead>\n",
       "  <tbody>\n",
       "    <tr>\n",
       "      <td>0</td>\n",
       "      <td>20</td>\n",
       "      <td>13000000.0</td>\n",
       "      <td>108.0</td>\n",
       "      <td>2019-03-07T00:00:00</td>\n",
       "      <td>3</td>\n",
       "      <td>2.70</td>\n",
       "      <td>16.0</td>\n",
       "      <td>51.0</td>\n",
       "      <td>8</td>\n",
       "      <td>NaN</td>\n",
       "      <td>...</td>\n",
       "      <td>25.0</td>\n",
       "      <td>NaN</td>\n",
       "      <td>St Petersburg</td>\n",
       "      <td>18863.0</td>\n",
       "      <td>16028.0</td>\n",
       "      <td>1.0</td>\n",
       "      <td>482.0</td>\n",
       "      <td>2.0</td>\n",
       "      <td>755.0</td>\n",
       "      <td>NaN</td>\n",
       "    </tr>\n",
       "    <tr>\n",
       "      <td>1</td>\n",
       "      <td>7</td>\n",
       "      <td>3350000.0</td>\n",
       "      <td>40.4</td>\n",
       "      <td>2018-12-04T00:00:00</td>\n",
       "      <td>1</td>\n",
       "      <td>NaN</td>\n",
       "      <td>11.0</td>\n",
       "      <td>18.6</td>\n",
       "      <td>1</td>\n",
       "      <td>NaN</td>\n",
       "      <td>...</td>\n",
       "      <td>11.0</td>\n",
       "      <td>2.0</td>\n",
       "      <td>Shushary village</td>\n",
       "      <td>12817.0</td>\n",
       "      <td>18603.0</td>\n",
       "      <td>0.0</td>\n",
       "      <td>NaN</td>\n",
       "      <td>0.0</td>\n",
       "      <td>NaN</td>\n",
       "      <td>81.0</td>\n",
       "    </tr>\n",
       "    <tr>\n",
       "      <td>2</td>\n",
       "      <td>10</td>\n",
       "      <td>5196000.0</td>\n",
       "      <td>56.0</td>\n",
       "      <td>2015-08-20T00:00:00</td>\n",
       "      <td>2</td>\n",
       "      <td>NaN</td>\n",
       "      <td>5.0</td>\n",
       "      <td>34.3</td>\n",
       "      <td>4</td>\n",
       "      <td>NaN</td>\n",
       "      <td>...</td>\n",
       "      <td>8.3</td>\n",
       "      <td>0.0</td>\n",
       "      <td>St Petersburg</td>\n",
       "      <td>21741.0</td>\n",
       "      <td>13933.0</td>\n",
       "      <td>1.0</td>\n",
       "      <td>90.0</td>\n",
       "      <td>2.0</td>\n",
       "      <td>574.0</td>\n",
       "      <td>558.0</td>\n",
       "    </tr>\n",
       "    <tr>\n",
       "      <td>3</td>\n",
       "      <td>0</td>\n",
       "      <td>64900000.0</td>\n",
       "      <td>159.0</td>\n",
       "      <td>2015-07-24T00:00:00</td>\n",
       "      <td>3</td>\n",
       "      <td>NaN</td>\n",
       "      <td>14.0</td>\n",
       "      <td>NaN</td>\n",
       "      <td>9</td>\n",
       "      <td>NaN</td>\n",
       "      <td>...</td>\n",
       "      <td>NaN</td>\n",
       "      <td>0.0</td>\n",
       "      <td>St Petersburg</td>\n",
       "      <td>28098.0</td>\n",
       "      <td>6800.0</td>\n",
       "      <td>2.0</td>\n",
       "      <td>84.0</td>\n",
       "      <td>3.0</td>\n",
       "      <td>234.0</td>\n",
       "      <td>424.0</td>\n",
       "    </tr>\n",
       "    <tr>\n",
       "      <td>4</td>\n",
       "      <td>2</td>\n",
       "      <td>10000000.0</td>\n",
       "      <td>100.0</td>\n",
       "      <td>2018-06-19T00:00:00</td>\n",
       "      <td>2</td>\n",
       "      <td>3.03</td>\n",
       "      <td>14.0</td>\n",
       "      <td>32.0</td>\n",
       "      <td>13</td>\n",
       "      <td>NaN</td>\n",
       "      <td>...</td>\n",
       "      <td>41.0</td>\n",
       "      <td>NaN</td>\n",
       "      <td>St Petersburg</td>\n",
       "      <td>31856.0</td>\n",
       "      <td>8098.0</td>\n",
       "      <td>2.0</td>\n",
       "      <td>112.0</td>\n",
       "      <td>1.0</td>\n",
       "      <td>48.0</td>\n",
       "      <td>121.0</td>\n",
       "    </tr>\n",
       "  </tbody>\n",
       "</table>\n",
       "<p>5 rows × 22 columns</p>\n",
       "</div>"
      ],
      "text/plain": [
       "   total_images  last_price  total_area first_day_exposition  rooms  \\\n",
       "0            20  13000000.0       108.0  2019-03-07T00:00:00      3   \n",
       "1             7   3350000.0        40.4  2018-12-04T00:00:00      1   \n",
       "2            10   5196000.0        56.0  2015-08-20T00:00:00      2   \n",
       "3             0  64900000.0       159.0  2015-07-24T00:00:00      3   \n",
       "4             2  10000000.0       100.0  2018-06-19T00:00:00      2   \n",
       "\n",
       "   ceiling_height  floors_total  living_area  floor is_apartment  ...  \\\n",
       "0            2.70          16.0         51.0      8          NaN  ...   \n",
       "1             NaN          11.0         18.6      1          NaN  ...   \n",
       "2             NaN           5.0         34.3      4          NaN  ...   \n",
       "3             NaN          14.0          NaN      9          NaN  ...   \n",
       "4            3.03          14.0         32.0     13          NaN  ...   \n",
       "\n",
       "   kitchen_area  balcony     locality_name  airports_nearest  \\\n",
       "0          25.0      NaN     St Petersburg           18863.0   \n",
       "1          11.0      2.0  Shushary village           12817.0   \n",
       "2           8.3      0.0     St Petersburg           21741.0   \n",
       "3           NaN      0.0     St Petersburg           28098.0   \n",
       "4          41.0      NaN     St Petersburg           31856.0   \n",
       "\n",
       "  cityCenters_nearest  parks_around3000  parks_nearest  ponds_around3000  \\\n",
       "0             16028.0               1.0          482.0               2.0   \n",
       "1             18603.0               0.0            NaN               0.0   \n",
       "2             13933.0               1.0           90.0               2.0   \n",
       "3              6800.0               2.0           84.0               3.0   \n",
       "4              8098.0               2.0          112.0               1.0   \n",
       "\n",
       "   ponds_nearest  days_exposition  \n",
       "0          755.0              NaN  \n",
       "1            NaN             81.0  \n",
       "2          574.0            558.0  \n",
       "3          234.0            424.0  \n",
       "4           48.0            121.0  \n",
       "\n",
       "[5 rows x 22 columns]"
      ]
     },
     "execution_count": 3,
     "metadata": {},
     "output_type": "execute_result"
    }
   ],
   "source": [
    "df.head()"
   ]
  },
  {
   "cell_type": "markdown",
   "metadata": {},
   "source": [
    "### General Information Gathering:"
   ]
  },
  {
   "cell_type": "code",
   "execution_count": 4,
   "metadata": {},
   "outputs": [
    {
     "data": {
      "text/plain": [
       "(23699, 22)"
      ]
     },
     "execution_count": 4,
     "metadata": {},
     "output_type": "execute_result"
    }
   ],
   "source": [
    "df.shape"
   ]
  },
  {
   "cell_type": "code",
   "execution_count": 5,
   "metadata": {},
   "outputs": [
    {
     "name": "stdout",
     "output_type": "stream",
     "text": [
      "<class 'pandas.core.frame.DataFrame'>\n",
      "RangeIndex: 23699 entries, 0 to 23698\n",
      "Data columns (total 22 columns):\n",
      "total_images            23699 non-null int64\n",
      "last_price              23699 non-null float64\n",
      "total_area              23699 non-null float64\n",
      "first_day_exposition    23699 non-null object\n",
      "rooms                   23699 non-null int64\n",
      "ceiling_height          14504 non-null float64\n",
      "floors_total            23613 non-null float64\n",
      "living_area             21796 non-null float64\n",
      "floor                   23699 non-null int64\n",
      "is_apartment            2775 non-null object\n",
      "studio                  23699 non-null bool\n",
      "open_plan               23699 non-null bool\n",
      "kitchen_area            21421 non-null float64\n",
      "balcony                 12180 non-null float64\n",
      "locality_name           23650 non-null object\n",
      "airports_nearest        18157 non-null float64\n",
      "cityCenters_nearest     18180 non-null float64\n",
      "parks_around3000        18181 non-null float64\n",
      "parks_nearest           8079 non-null float64\n",
      "ponds_around3000        18181 non-null float64\n",
      "ponds_nearest           9110 non-null float64\n",
      "days_exposition         20518 non-null float64\n",
      "dtypes: bool(2), float64(14), int64(3), object(3)\n",
      "memory usage: 3.7+ MB\n"
     ]
    }
   ],
   "source": [
    "df.info()"
   ]
  },
  {
   "cell_type": "code",
   "execution_count": 6,
   "metadata": {},
   "outputs": [
    {
     "data": {
      "text/html": [
       "<div>\n",
       "<style scoped>\n",
       "    .dataframe tbody tr th:only-of-type {\n",
       "        vertical-align: middle;\n",
       "    }\n",
       "\n",
       "    .dataframe tbody tr th {\n",
       "        vertical-align: top;\n",
       "    }\n",
       "\n",
       "    .dataframe thead th {\n",
       "        text-align: right;\n",
       "    }\n",
       "</style>\n",
       "<table border=\"1\" class=\"dataframe\">\n",
       "  <thead>\n",
       "    <tr style=\"text-align: right;\">\n",
       "      <th></th>\n",
       "      <th>total_images</th>\n",
       "      <th>last_price</th>\n",
       "      <th>total_area</th>\n",
       "      <th>rooms</th>\n",
       "      <th>ceiling_height</th>\n",
       "      <th>floors_total</th>\n",
       "      <th>living_area</th>\n",
       "      <th>floor</th>\n",
       "      <th>kitchen_area</th>\n",
       "      <th>balcony</th>\n",
       "      <th>airports_nearest</th>\n",
       "      <th>cityCenters_nearest</th>\n",
       "      <th>parks_around3000</th>\n",
       "      <th>parks_nearest</th>\n",
       "      <th>ponds_around3000</th>\n",
       "      <th>ponds_nearest</th>\n",
       "      <th>days_exposition</th>\n",
       "    </tr>\n",
       "  </thead>\n",
       "  <tbody>\n",
       "    <tr>\n",
       "      <td>count</td>\n",
       "      <td>23699.000000</td>\n",
       "      <td>2.369900e+04</td>\n",
       "      <td>23699.000000</td>\n",
       "      <td>23699.000000</td>\n",
       "      <td>14504.000000</td>\n",
       "      <td>23613.000000</td>\n",
       "      <td>21796.000000</td>\n",
       "      <td>23699.000000</td>\n",
       "      <td>21421.000000</td>\n",
       "      <td>12180.000000</td>\n",
       "      <td>18157.000000</td>\n",
       "      <td>18180.000000</td>\n",
       "      <td>18181.000000</td>\n",
       "      <td>8079.000000</td>\n",
       "      <td>18181.000000</td>\n",
       "      <td>9110.000000</td>\n",
       "      <td>20518.000000</td>\n",
       "    </tr>\n",
       "    <tr>\n",
       "      <td>mean</td>\n",
       "      <td>9.858475</td>\n",
       "      <td>6.541549e+06</td>\n",
       "      <td>60.348651</td>\n",
       "      <td>2.070636</td>\n",
       "      <td>2.771499</td>\n",
       "      <td>10.673824</td>\n",
       "      <td>34.457852</td>\n",
       "      <td>5.892358</td>\n",
       "      <td>10.569807</td>\n",
       "      <td>1.150082</td>\n",
       "      <td>28793.672193</td>\n",
       "      <td>14191.277833</td>\n",
       "      <td>0.611408</td>\n",
       "      <td>490.804555</td>\n",
       "      <td>0.770255</td>\n",
       "      <td>517.980900</td>\n",
       "      <td>180.888634</td>\n",
       "    </tr>\n",
       "    <tr>\n",
       "      <td>std</td>\n",
       "      <td>5.682529</td>\n",
       "      <td>1.088701e+07</td>\n",
       "      <td>35.654083</td>\n",
       "      <td>1.078405</td>\n",
       "      <td>1.261056</td>\n",
       "      <td>6.597173</td>\n",
       "      <td>22.030445</td>\n",
       "      <td>4.885249</td>\n",
       "      <td>5.905438</td>\n",
       "      <td>1.071300</td>\n",
       "      <td>12630.880622</td>\n",
       "      <td>8608.386210</td>\n",
       "      <td>0.802074</td>\n",
       "      <td>342.317995</td>\n",
       "      <td>0.938346</td>\n",
       "      <td>277.720643</td>\n",
       "      <td>219.727988</td>\n",
       "    </tr>\n",
       "    <tr>\n",
       "      <td>min</td>\n",
       "      <td>0.000000</td>\n",
       "      <td>1.219000e+04</td>\n",
       "      <td>12.000000</td>\n",
       "      <td>0.000000</td>\n",
       "      <td>1.000000</td>\n",
       "      <td>1.000000</td>\n",
       "      <td>2.000000</td>\n",
       "      <td>1.000000</td>\n",
       "      <td>1.300000</td>\n",
       "      <td>0.000000</td>\n",
       "      <td>0.000000</td>\n",
       "      <td>181.000000</td>\n",
       "      <td>0.000000</td>\n",
       "      <td>1.000000</td>\n",
       "      <td>0.000000</td>\n",
       "      <td>13.000000</td>\n",
       "      <td>1.000000</td>\n",
       "    </tr>\n",
       "    <tr>\n",
       "      <td>25%</td>\n",
       "      <td>6.000000</td>\n",
       "      <td>3.400000e+06</td>\n",
       "      <td>40.000000</td>\n",
       "      <td>1.000000</td>\n",
       "      <td>2.520000</td>\n",
       "      <td>5.000000</td>\n",
       "      <td>18.600000</td>\n",
       "      <td>2.000000</td>\n",
       "      <td>7.000000</td>\n",
       "      <td>0.000000</td>\n",
       "      <td>18585.000000</td>\n",
       "      <td>9238.000000</td>\n",
       "      <td>0.000000</td>\n",
       "      <td>288.000000</td>\n",
       "      <td>0.000000</td>\n",
       "      <td>294.000000</td>\n",
       "      <td>45.000000</td>\n",
       "    </tr>\n",
       "    <tr>\n",
       "      <td>50%</td>\n",
       "      <td>9.000000</td>\n",
       "      <td>4.650000e+06</td>\n",
       "      <td>52.000000</td>\n",
       "      <td>2.000000</td>\n",
       "      <td>2.650000</td>\n",
       "      <td>9.000000</td>\n",
       "      <td>30.000000</td>\n",
       "      <td>4.000000</td>\n",
       "      <td>9.100000</td>\n",
       "      <td>1.000000</td>\n",
       "      <td>26726.000000</td>\n",
       "      <td>13098.500000</td>\n",
       "      <td>0.000000</td>\n",
       "      <td>455.000000</td>\n",
       "      <td>1.000000</td>\n",
       "      <td>502.000000</td>\n",
       "      <td>95.000000</td>\n",
       "    </tr>\n",
       "    <tr>\n",
       "      <td>75%</td>\n",
       "      <td>14.000000</td>\n",
       "      <td>6.800000e+06</td>\n",
       "      <td>69.900000</td>\n",
       "      <td>3.000000</td>\n",
       "      <td>2.800000</td>\n",
       "      <td>16.000000</td>\n",
       "      <td>42.300000</td>\n",
       "      <td>8.000000</td>\n",
       "      <td>12.000000</td>\n",
       "      <td>2.000000</td>\n",
       "      <td>37273.000000</td>\n",
       "      <td>16293.000000</td>\n",
       "      <td>1.000000</td>\n",
       "      <td>612.000000</td>\n",
       "      <td>1.000000</td>\n",
       "      <td>729.000000</td>\n",
       "      <td>232.000000</td>\n",
       "    </tr>\n",
       "    <tr>\n",
       "      <td>max</td>\n",
       "      <td>50.000000</td>\n",
       "      <td>7.630000e+08</td>\n",
       "      <td>900.000000</td>\n",
       "      <td>19.000000</td>\n",
       "      <td>100.000000</td>\n",
       "      <td>60.000000</td>\n",
       "      <td>409.700000</td>\n",
       "      <td>33.000000</td>\n",
       "      <td>112.000000</td>\n",
       "      <td>5.000000</td>\n",
       "      <td>84869.000000</td>\n",
       "      <td>65968.000000</td>\n",
       "      <td>3.000000</td>\n",
       "      <td>3190.000000</td>\n",
       "      <td>3.000000</td>\n",
       "      <td>1344.000000</td>\n",
       "      <td>1580.000000</td>\n",
       "    </tr>\n",
       "  </tbody>\n",
       "</table>\n",
       "</div>"
      ],
      "text/plain": [
       "       total_images    last_price    total_area         rooms  ceiling_height  \\\n",
       "count  23699.000000  2.369900e+04  23699.000000  23699.000000    14504.000000   \n",
       "mean       9.858475  6.541549e+06     60.348651      2.070636        2.771499   \n",
       "std        5.682529  1.088701e+07     35.654083      1.078405        1.261056   \n",
       "min        0.000000  1.219000e+04     12.000000      0.000000        1.000000   \n",
       "25%        6.000000  3.400000e+06     40.000000      1.000000        2.520000   \n",
       "50%        9.000000  4.650000e+06     52.000000      2.000000        2.650000   \n",
       "75%       14.000000  6.800000e+06     69.900000      3.000000        2.800000   \n",
       "max       50.000000  7.630000e+08    900.000000     19.000000      100.000000   \n",
       "\n",
       "       floors_total   living_area         floor  kitchen_area       balcony  \\\n",
       "count  23613.000000  21796.000000  23699.000000  21421.000000  12180.000000   \n",
       "mean      10.673824     34.457852      5.892358     10.569807      1.150082   \n",
       "std        6.597173     22.030445      4.885249      5.905438      1.071300   \n",
       "min        1.000000      2.000000      1.000000      1.300000      0.000000   \n",
       "25%        5.000000     18.600000      2.000000      7.000000      0.000000   \n",
       "50%        9.000000     30.000000      4.000000      9.100000      1.000000   \n",
       "75%       16.000000     42.300000      8.000000     12.000000      2.000000   \n",
       "max       60.000000    409.700000     33.000000    112.000000      5.000000   \n",
       "\n",
       "       airports_nearest  cityCenters_nearest  parks_around3000  parks_nearest  \\\n",
       "count      18157.000000         18180.000000      18181.000000    8079.000000   \n",
       "mean       28793.672193         14191.277833          0.611408     490.804555   \n",
       "std        12630.880622          8608.386210          0.802074     342.317995   \n",
       "min            0.000000           181.000000          0.000000       1.000000   \n",
       "25%        18585.000000          9238.000000          0.000000     288.000000   \n",
       "50%        26726.000000         13098.500000          0.000000     455.000000   \n",
       "75%        37273.000000         16293.000000          1.000000     612.000000   \n",
       "max        84869.000000         65968.000000          3.000000    3190.000000   \n",
       "\n",
       "       ponds_around3000  ponds_nearest  days_exposition  \n",
       "count      18181.000000    9110.000000     20518.000000  \n",
       "mean           0.770255     517.980900       180.888634  \n",
       "std            0.938346     277.720643       219.727988  \n",
       "min            0.000000      13.000000         1.000000  \n",
       "25%            0.000000     294.000000        45.000000  \n",
       "50%            1.000000     502.000000        95.000000  \n",
       "75%            1.000000     729.000000       232.000000  \n",
       "max            3.000000    1344.000000      1580.000000  "
      ]
     },
     "execution_count": 6,
     "metadata": {},
     "output_type": "execute_result"
    }
   ],
   "source": [
    "df.describe()"
   ]
  },
  {
   "cell_type": "code",
   "execution_count": 7,
   "metadata": {},
   "outputs": [
    {
     "data": {
      "text/html": [
       "<div>\n",
       "<style scoped>\n",
       "    .dataframe tbody tr th:only-of-type {\n",
       "        vertical-align: middle;\n",
       "    }\n",
       "\n",
       "    .dataframe tbody tr th {\n",
       "        vertical-align: top;\n",
       "    }\n",
       "\n",
       "    .dataframe thead th {\n",
       "        text-align: right;\n",
       "    }\n",
       "</style>\n",
       "<table border=\"1\" class=\"dataframe\">\n",
       "  <thead>\n",
       "    <tr style=\"text-align: right;\">\n",
       "      <th></th>\n",
       "      <th>first_day_exposition</th>\n",
       "      <th>is_apartment</th>\n",
       "      <th>locality_name</th>\n",
       "    </tr>\n",
       "  </thead>\n",
       "  <tbody>\n",
       "    <tr>\n",
       "      <td>count</td>\n",
       "      <td>23699</td>\n",
       "      <td>2775</td>\n",
       "      <td>23650</td>\n",
       "    </tr>\n",
       "    <tr>\n",
       "      <td>unique</td>\n",
       "      <td>1491</td>\n",
       "      <td>2</td>\n",
       "      <td>329</td>\n",
       "    </tr>\n",
       "    <tr>\n",
       "      <td>top</td>\n",
       "      <td>2018-02-01T00:00:00</td>\n",
       "      <td>False</td>\n",
       "      <td>St Petersburg</td>\n",
       "    </tr>\n",
       "    <tr>\n",
       "      <td>freq</td>\n",
       "      <td>368</td>\n",
       "      <td>2725</td>\n",
       "      <td>15721</td>\n",
       "    </tr>\n",
       "  </tbody>\n",
       "</table>\n",
       "</div>"
      ],
      "text/plain": [
       "       first_day_exposition is_apartment  locality_name\n",
       "count                 23699         2775          23650\n",
       "unique                 1491            2            329\n",
       "top     2018-02-01T00:00:00        False  St Petersburg\n",
       "freq                    368         2725          15721"
      ]
     },
     "execution_count": 7,
     "metadata": {},
     "output_type": "execute_result"
    }
   ],
   "source": [
    "df.describe(include='object')"
   ]
  },
  {
   "cell_type": "code",
   "execution_count": 8,
   "metadata": {},
   "outputs": [
    {
     "name": "stdout",
     "output_type": "stream",
     "text": [
      "Column ceiling_height has 38.80% percent of Nulls, and 9195 of nulls\n",
      "Column floors_total has 0.36% percent of Nulls, and 86 of nulls\n",
      "Column living_area has 8.03% percent of Nulls, and 1903 of nulls\n",
      "Column is_apartment has 88.29% percent of Nulls, and 20924 of nulls\n",
      "Column kitchen_area has 9.61% percent of Nulls, and 2278 of nulls\n",
      "Column balcony has 48.61% percent of Nulls, and 11519 of nulls\n",
      "Column locality_name has 0.21% percent of Nulls, and 49 of nulls\n",
      "Column airports_nearest has 23.38% percent of Nulls, and 5542 of nulls\n",
      "Column cityCenters_nearest has 23.29% percent of Nulls, and 5519 of nulls\n",
      "Column parks_around3000 has 23.28% percent of Nulls, and 5518 of nulls\n",
      "Column parks_nearest has 65.91% percent of Nulls, and 15620 of nulls\n",
      "Column ponds_around3000 has 23.28% percent of Nulls, and 5518 of nulls\n",
      "Column ponds_nearest has 61.56% percent of Nulls, and 14589 of nulls\n",
      "Column days_exposition has 13.42% percent of Nulls, and 3181 of nulls\n",
      "There are 14 columns with NA!\n"
     ]
    }
   ],
   "source": [
    "get_percent_of_na(df,2)"
   ]
  },
  {
   "cell_type": "markdown",
   "metadata": {},
   "source": [
    "### Conclusion"
   ]
  },
  {
   "cell_type": "markdown",
   "metadata": {},
   "source": [
    "After Investigating the data I can see that I have 14 columns with nulls.\n",
    "Each column has alot of nulls, the range of nulls vary from 10% to 88% (except from the columns floors total and locality).\n",
    "\n",
    "Therefore, I'll have to handle these columns:\n",
    "- [X] ceiling_height\n",
    "- [X] floors_total\n",
    "- [X] living_area\n",
    "- [X] is_apartment\n",
    "- [X] kitchen_area\n",
    "- [X] balcony\n",
    "- [X] locality_name\n",
    "- [X] airports_nearest\n",
    "- [X] cityCenters_nearest\n",
    "- [X] parks_around3000\n",
    "- [X] ponds_around3000\n",
    "- [X] ponds_nearest\n",
    "- [X] parks_nearest\n",
    "- [X] days_exposition"
   ]
  },
  {
   "cell_type": "markdown",
   "metadata": {},
   "source": [
    "### Step 2. Data preprocessing"
   ]
  },
  {
   "cell_type": "markdown",
   "metadata": {},
   "source": [
    "Firstly, I will handle locality_name, balcony and is_apartment.\n",
    "\n",
    "Since locality name has a dominator with St. Petersburg, I will fill NA with this. For balcony I allow myself to replace NA with 0, since if it is not filled probably no balcony for the apartment. \n",
    "About is_apartment, I am gonna fill False, since 98% from the values are False. After that I can drop that column since this column does not add any value when it is only False (99.7% False)."
   ]
  },
  {
   "cell_type": "code",
   "execution_count": 9,
   "metadata": {},
   "outputs": [
    {
     "data": {
      "text/plain": [
       "False    0.981982\n",
       "True     0.018018\n",
       "Name: is_apartment, dtype: float64"
      ]
     },
     "execution_count": 9,
     "metadata": {},
     "output_type": "execute_result"
    }
   ],
   "source": [
    "df['is_apartment'].value_counts() / df['is_apartment'].value_counts().sum()"
   ]
  },
  {
   "cell_type": "code",
   "execution_count": 10,
   "metadata": {},
   "outputs": [],
   "source": [
    "df['is_apartment'].fillna(0,inplace=True)"
   ]
  },
  {
   "cell_type": "code",
   "execution_count": 11,
   "metadata": {},
   "outputs": [],
   "source": [
    "df['is_apartment'].value_counts() / df['is_apartment'].value_counts().sum()\n",
    "df.drop(columns=['is_apartment'],inplace=True)"
   ]
  },
  {
   "cell_type": "code",
   "execution_count": 12,
   "metadata": {},
   "outputs": [],
   "source": [
    "df['locality_name'].fillna(df['locality_name'].value_counts().idxmax(),inplace=True)"
   ]
  },
  {
   "cell_type": "code",
   "execution_count": 13,
   "metadata": {},
   "outputs": [],
   "source": [
    "df['balcony'].fillna(0, inplace=True)"
   ]
  },
  {
   "cell_type": "markdown",
   "metadata": {},
   "source": [
    "Secondly, I am going to check the floor. Since floor is the apartment floor, it should be <= to floors_total. I am gonna to verify that this is the case.\n",
    "\n",
    "Since no results, we are ok."
   ]
  },
  {
   "cell_type": "code",
   "execution_count": 14,
   "metadata": {},
   "outputs": [
    {
     "data": {
      "text/html": [
       "<div>\n",
       "<style scoped>\n",
       "    .dataframe tbody tr th:only-of-type {\n",
       "        vertical-align: middle;\n",
       "    }\n",
       "\n",
       "    .dataframe tbody tr th {\n",
       "        vertical-align: top;\n",
       "    }\n",
       "\n",
       "    .dataframe thead th {\n",
       "        text-align: right;\n",
       "    }\n",
       "</style>\n",
       "<table border=\"1\" class=\"dataframe\">\n",
       "  <thead>\n",
       "    <tr style=\"text-align: right;\">\n",
       "      <th></th>\n",
       "      <th>total_images</th>\n",
       "      <th>last_price</th>\n",
       "      <th>total_area</th>\n",
       "      <th>first_day_exposition</th>\n",
       "      <th>rooms</th>\n",
       "      <th>ceiling_height</th>\n",
       "      <th>floors_total</th>\n",
       "      <th>living_area</th>\n",
       "      <th>floor</th>\n",
       "      <th>studio</th>\n",
       "      <th>...</th>\n",
       "      <th>kitchen_area</th>\n",
       "      <th>balcony</th>\n",
       "      <th>locality_name</th>\n",
       "      <th>airports_nearest</th>\n",
       "      <th>cityCenters_nearest</th>\n",
       "      <th>parks_around3000</th>\n",
       "      <th>parks_nearest</th>\n",
       "      <th>ponds_around3000</th>\n",
       "      <th>ponds_nearest</th>\n",
       "      <th>days_exposition</th>\n",
       "    </tr>\n",
       "  </thead>\n",
       "  <tbody>\n",
       "  </tbody>\n",
       "</table>\n",
       "<p>0 rows × 21 columns</p>\n",
       "</div>"
      ],
      "text/plain": [
       "Empty DataFrame\n",
       "Columns: [total_images, last_price, total_area, first_day_exposition, rooms, ceiling_height, floors_total, living_area, floor, studio, open_plan, kitchen_area, balcony, locality_name, airports_nearest, cityCenters_nearest, parks_around3000, parks_nearest, ponds_around3000, ponds_nearest, days_exposition]\n",
       "Index: []\n",
       "\n",
       "[0 rows x 21 columns]"
      ]
     },
     "execution_count": 14,
     "metadata": {},
     "output_type": "execute_result"
    }
   ],
   "source": [
    "df[df['floor'] > df['floors_total']]"
   ]
  },
  {
   "cell_type": "markdown",
   "metadata": {},
   "source": [
    "Lastly, I will work on the other columns.\n",
    "\n",
    "Since the mean and median for airport, city, park, etc are kinda close, I take the liberty to group by locality name and fill out these nulls with the avg of the group. However, I saw that we have some localities without a single values, therefore after filling the mean I'll replace the NA with 0 to avoid changing the data too much.\n",
    "\n",
    "P.S:\n",
    "\n",
    "The numbers will be rounded to avoid having 1 and a half airport or city center"
   ]
  },
  {
   "cell_type": "code",
   "execution_count": 15,
   "metadata": {},
   "outputs": [],
   "source": [
    "columns_to_fill = ['airports_nearest','cityCenters_nearest','parks_around3000','parks_nearest','ponds_around3000','ponds_nearest']\n",
    "df = fill_NA(df,'locality_name',columns_to_fill,np.mean)"
   ]
  },
  {
   "cell_type": "code",
   "execution_count": 16,
   "metadata": {},
   "outputs": [
    {
     "name": "stdout",
     "output_type": "stream",
     "text": [
      "Column ceiling_height has 38.80% percent of Nulls, and 9195 of nulls\n",
      "Column floors_total has 0.36% percent of Nulls, and 86 of nulls\n",
      "Column living_area has 8.03% percent of Nulls, and 1903 of nulls\n",
      "Column kitchen_area has 9.61% percent of Nulls, and 2278 of nulls\n",
      "Column days_exposition has 13.42% percent of Nulls, and 3181 of nulls\n",
      "There are 5 columns with NA!\n"
     ]
    }
   ],
   "source": [
    "get_percent_of_na(df,2)"
   ]
  },
  {
   "cell_type": "markdown",
   "metadata": {},
   "source": [
    "For the rest of the columns, I will try to investigate the correlation between columns, to better understand how to fill the missing values."
   ]
  },
  {
   "cell_type": "code",
   "execution_count": 17,
   "metadata": {},
   "outputs": [
    {
     "data": {
      "text/plain": [
       "[('last_price', 'total_area', 0.65368),\n",
       " ('last_price', 'living_area', 0.56649),\n",
       " ('last_price', 'kitchen_area', 0.51987),\n",
       " ('total_area', 'rooms', 0.75834),\n",
       " ('total_area', 'living_area', 0.93954),\n",
       " ('total_area', 'kitchen_area', 0.60912),\n",
       " ('rooms', 'living_area', 0.84598),\n",
       " ('floors_total', 'floor', 0.67806),\n",
       " ('airports_nearest', 'cityCenters_nearest', 0.60394),\n",
       " ('parks_nearest', 'ponds_nearest', 0.5315)]"
      ]
     },
     "execution_count": 17,
     "metadata": {},
     "output_type": "execute_result"
    }
   ],
   "source": [
    "pairs = find_pairs_with_correlation_above(df,get_numerical_columns(df),0.5)\n",
    "pairs"
   ]
  },
  {
   "cell_type": "markdown",
   "metadata": {},
   "source": [
    "I can see that I have 10 couples with correlation above 0.5.\n",
    "\n",
    "Since total_area and rooms has no nulls, I'll groupby these columns and fill living area and kitchen area by the median of every group, check results then by avg.\n",
    "\n",
    "Later, I can choose the best method that gives the higher correlation."
   ]
  },
  {
   "cell_type": "code",
   "execution_count": 18,
   "metadata": {},
   "outputs": [
    {
     "data": {
      "text/plain": [
       "[('total_area', 'rooms', 0.75834),\n",
       " ('total_area', 'living_area', 0.86931),\n",
       " ('total_area', 'kitchen_area', 0.56812),\n",
       " ('rooms', 'living_area', 0.82186)]"
      ]
     },
     "execution_count": 18,
     "metadata": {},
     "output_type": "execute_result"
    }
   ],
   "source": [
    "df_test = df[['total_area','rooms','living_area','kitchen_area']]\n",
    "df_test = fill_NA(df_test,['total_area','rooms'],['living_area','kitchen_area'],np.mean)\n",
    "pairs_test_mean = find_pairs_with_correlation_above(df_test,get_numerical_columns(df_test),0.5)\n",
    "pairs_test_mean"
   ]
  },
  {
   "cell_type": "code",
   "execution_count": 19,
   "metadata": {},
   "outputs": [
    {
     "data": {
      "text/plain": [
       "[('total_area', 'rooms', 0.75834),\n",
       " ('total_area', 'living_area', 0.79166),\n",
       " ('total_area', 'kitchen_area', 0.51409),\n",
       " ('rooms', 'living_area', 0.74464)]"
      ]
     },
     "execution_count": 19,
     "metadata": {},
     "output_type": "execute_result"
    }
   ],
   "source": [
    "df_test = df[['total_area','rooms','living_area','kitchen_area']]\n",
    "df_test = fill_NA(df_test,['total_area','rooms'],['living_area','kitchen_area'],np.median)\n",
    "pairs_test_mean = find_pairs_with_correlation_above(df_test,get_numerical_columns(df_test),0.5)\n",
    "pairs_test_mean"
   ]
  },
  {
   "cell_type": "markdown",
   "metadata": {},
   "source": [
    "Filling up the NA with mean gave me better results. Although I did lose some of the correlation"
   ]
  },
  {
   "cell_type": "code",
   "execution_count": 20,
   "metadata": {},
   "outputs": [],
   "source": [
    "df = fill_NA(df,['total_area','rooms'],['living_area','kitchen_area'],np.mean)"
   ]
  },
  {
   "cell_type": "markdown",
   "metadata": {},
   "source": [
    "Let us see which columns are still having NA"
   ]
  },
  {
   "cell_type": "code",
   "execution_count": 21,
   "metadata": {},
   "outputs": [
    {
     "name": "stdout",
     "output_type": "stream",
     "text": [
      "Column ceiling_height has 38.80% percent of Nulls, and 9195 of nulls\n",
      "Column floors_total has 0.36% percent of Nulls, and 86 of nulls\n",
      "Column days_exposition has 13.42% percent of Nulls, and 3181 of nulls\n",
      "There are 3 columns with NA!\n"
     ]
    }
   ],
   "source": [
    "get_percent_of_na(df,2)"
   ]
  },
  {
   "cell_type": "markdown",
   "metadata": {},
   "source": [
    "For floors total I will fill it with median based on locality, probably for same areas the number of floors for buildings should be around each other.\n",
    "\n",
    "For ceiling I am gonna fill with median.\n",
    "\n",
    "Lastly, for days exposition will do a deeper investigation."
   ]
  },
  {
   "cell_type": "code",
   "execution_count": 22,
   "metadata": {},
   "outputs": [],
   "source": [
    "#filling NA with floors assuming it is the highest floor.\n",
    "df['floors_total'].fillna(df['floor'],inplace=True)"
   ]
  },
  {
   "cell_type": "code",
   "execution_count": 23,
   "metadata": {},
   "outputs": [],
   "source": [
    "df['ceiling_height'].fillna(df['ceiling_height'].median(),inplace=True)"
   ]
  },
  {
   "cell_type": "code",
   "execution_count": 24,
   "metadata": {},
   "outputs": [
    {
     "data": {
      "text/plain": [
       "count    20518.000000\n",
       "mean       180.888634\n",
       "std        219.727988\n",
       "min          1.000000\n",
       "25%         45.000000\n",
       "50%         95.000000\n",
       "75%        232.000000\n",
       "max       1580.000000\n",
       "Name: days_exposition, dtype: float64"
      ]
     },
     "execution_count": 24,
     "metadata": {},
     "output_type": "execute_result"
    }
   ],
   "source": [
    "df['days_exposition'].describe()"
   ]
  },
  {
   "cell_type": "code",
   "execution_count": 25,
   "metadata": {},
   "outputs": [
    {
     "data": {
      "text/html": [
       "<div>\n",
       "<style scoped>\n",
       "    .dataframe tbody tr th:only-of-type {\n",
       "        vertical-align: middle;\n",
       "    }\n",
       "\n",
       "    .dataframe tbody tr th {\n",
       "        vertical-align: top;\n",
       "    }\n",
       "\n",
       "    .dataframe thead th {\n",
       "        text-align: right;\n",
       "    }\n",
       "</style>\n",
       "<table border=\"1\" class=\"dataframe\">\n",
       "  <thead>\n",
       "    <tr style=\"text-align: right;\">\n",
       "      <th></th>\n",
       "      <th>count</th>\n",
       "      <th>mean</th>\n",
       "      <th>std</th>\n",
       "      <th>min</th>\n",
       "      <th>25%</th>\n",
       "      <th>50%</th>\n",
       "      <th>75%</th>\n",
       "      <th>max</th>\n",
       "    </tr>\n",
       "    <tr>\n",
       "      <th>locality_name</th>\n",
       "      <th></th>\n",
       "      <th></th>\n",
       "      <th></th>\n",
       "      <th></th>\n",
       "      <th></th>\n",
       "      <th></th>\n",
       "      <th></th>\n",
       "      <th></th>\n",
       "    </tr>\n",
       "  </thead>\n",
       "  <tbody>\n",
       "    <tr>\n",
       "      <td>Agalatovo village</td>\n",
       "      <td>3.0</td>\n",
       "      <td>223.666667</td>\n",
       "      <td>347.192070</td>\n",
       "      <td>5.0</td>\n",
       "      <td>23.50</td>\n",
       "      <td>42.0</td>\n",
       "      <td>333.00</td>\n",
       "      <td>624.0</td>\n",
       "    </tr>\n",
       "    <tr>\n",
       "      <td>Aleksandrovskaya village</td>\n",
       "      <td>2.0</td>\n",
       "      <td>78.500000</td>\n",
       "      <td>47.376154</td>\n",
       "      <td>45.0</td>\n",
       "      <td>61.75</td>\n",
       "      <td>78.5</td>\n",
       "      <td>95.25</td>\n",
       "      <td>112.0</td>\n",
       "    </tr>\n",
       "    <tr>\n",
       "      <td>Annino village</td>\n",
       "      <td>13.0</td>\n",
       "      <td>265.384615</td>\n",
       "      <td>285.143104</td>\n",
       "      <td>7.0</td>\n",
       "      <td>60.00</td>\n",
       "      <td>172.0</td>\n",
       "      <td>375.00</td>\n",
       "      <td>859.0</td>\n",
       "    </tr>\n",
       "    <tr>\n",
       "      <td>Ascension settlement</td>\n",
       "      <td>2.0</td>\n",
       "      <td>138.500000</td>\n",
       "      <td>58.689863</td>\n",
       "      <td>97.0</td>\n",
       "      <td>117.75</td>\n",
       "      <td>138.5</td>\n",
       "      <td>159.25</td>\n",
       "      <td>180.0</td>\n",
       "    </tr>\n",
       "    <tr>\n",
       "      <td>Baryshevo village</td>\n",
       "      <td>2.0</td>\n",
       "      <td>252.500000</td>\n",
       "      <td>303.348809</td>\n",
       "      <td>38.0</td>\n",
       "      <td>145.25</td>\n",
       "      <td>252.5</td>\n",
       "      <td>359.75</td>\n",
       "      <td>467.0</td>\n",
       "    </tr>\n",
       "    <tr>\n",
       "      <td>Batovo village</td>\n",
       "      <td>7.0</td>\n",
       "      <td>132.714286</td>\n",
       "      <td>123.328443</td>\n",
       "      <td>27.0</td>\n",
       "      <td>61.50</td>\n",
       "      <td>86.0</td>\n",
       "      <td>151.50</td>\n",
       "      <td>390.0</td>\n",
       "    </tr>\n",
       "    <tr>\n",
       "      <td>Begunitsy village</td>\n",
       "      <td>16.0</td>\n",
       "      <td>167.625000</td>\n",
       "      <td>143.793776</td>\n",
       "      <td>20.0</td>\n",
       "      <td>45.00</td>\n",
       "      <td>142.5</td>\n",
       "      <td>192.50</td>\n",
       "      <td>525.0</td>\n",
       "    </tr>\n",
       "    <tr>\n",
       "      <td>Belogorka village</td>\n",
       "      <td>10.0</td>\n",
       "      <td>357.800000</td>\n",
       "      <td>319.448066</td>\n",
       "      <td>37.0</td>\n",
       "      <td>67.00</td>\n",
       "      <td>339.5</td>\n",
       "      <td>527.25</td>\n",
       "      <td>1021.0</td>\n",
       "    </tr>\n",
       "    <tr>\n",
       "      <td>Beloostrov village</td>\n",
       "      <td>1.0</td>\n",
       "      <td>45.000000</td>\n",
       "      <td>NaN</td>\n",
       "      <td>45.0</td>\n",
       "      <td>45.00</td>\n",
       "      <td>45.0</td>\n",
       "      <td>45.00</td>\n",
       "      <td>45.0</td>\n",
       "    </tr>\n",
       "    <tr>\n",
       "      <td>Big Kolpan village</td>\n",
       "      <td>12.0</td>\n",
       "      <td>104.333333</td>\n",
       "      <td>129.186499</td>\n",
       "      <td>6.0</td>\n",
       "      <td>32.25</td>\n",
       "      <td>45.0</td>\n",
       "      <td>134.75</td>\n",
       "      <td>438.0</td>\n",
       "    </tr>\n",
       "    <tr>\n",
       "      <td>Big Pustomerzha village</td>\n",
       "      <td>1.0</td>\n",
       "      <td>627.000000</td>\n",
       "      <td>NaN</td>\n",
       "      <td>627.0</td>\n",
       "      <td>627.00</td>\n",
       "      <td>627.0</td>\n",
       "      <td>627.00</td>\n",
       "      <td>627.0</td>\n",
       "    </tr>\n",
       "    <tr>\n",
       "      <td>Big Sabsk village</td>\n",
       "      <td>0.0</td>\n",
       "      <td>NaN</td>\n",
       "      <td>NaN</td>\n",
       "      <td>NaN</td>\n",
       "      <td>NaN</td>\n",
       "      <td>NaN</td>\n",
       "      <td>NaN</td>\n",
       "      <td>NaN</td>\n",
       "    </tr>\n",
       "    <tr>\n",
       "      <td>Big Vruda village</td>\n",
       "      <td>2.0</td>\n",
       "      <td>61.500000</td>\n",
       "      <td>23.334524</td>\n",
       "      <td>45.0</td>\n",
       "      <td>53.25</td>\n",
       "      <td>61.5</td>\n",
       "      <td>69.75</td>\n",
       "      <td>78.0</td>\n",
       "    </tr>\n",
       "    <tr>\n",
       "      <td>Boksitogorsk</td>\n",
       "      <td>14.0</td>\n",
       "      <td>89.571429</td>\n",
       "      <td>86.912612</td>\n",
       "      <td>6.0</td>\n",
       "      <td>26.25</td>\n",
       "      <td>45.0</td>\n",
       "      <td>149.50</td>\n",
       "      <td>273.0</td>\n",
       "    </tr>\n",
       "    <tr>\n",
       "      <td>Bolshoy Reyzino village</td>\n",
       "      <td>1.0</td>\n",
       "      <td>117.000000</td>\n",
       "      <td>NaN</td>\n",
       "      <td>117.0</td>\n",
       "      <td>117.00</td>\n",
       "      <td>117.0</td>\n",
       "      <td>117.00</td>\n",
       "      <td>117.0</td>\n",
       "    </tr>\n",
       "    <tr>\n",
       "      <td>Borisova Griva village</td>\n",
       "      <td>1.0</td>\n",
       "      <td>386.000000</td>\n",
       "      <td>NaN</td>\n",
       "      <td>386.0</td>\n",
       "      <td>386.00</td>\n",
       "      <td>386.0</td>\n",
       "      <td>386.00</td>\n",
       "      <td>386.0</td>\n",
       "    </tr>\n",
       "    <tr>\n",
       "      <td>Bugry village</td>\n",
       "      <td>100.0</td>\n",
       "      <td>164.450000</td>\n",
       "      <td>197.915010</td>\n",
       "      <td>4.0</td>\n",
       "      <td>42.75</td>\n",
       "      <td>80.5</td>\n",
       "      <td>213.00</td>\n",
       "      <td>1050.0</td>\n",
       "    </tr>\n",
       "    <tr>\n",
       "      <td>Caltino village</td>\n",
       "      <td>6.0</td>\n",
       "      <td>206.166667</td>\n",
       "      <td>176.975045</td>\n",
       "      <td>91.0</td>\n",
       "      <td>95.00</td>\n",
       "      <td>140.0</td>\n",
       "      <td>212.00</td>\n",
       "      <td>550.0</td>\n",
       "    </tr>\n",
       "    <tr>\n",
       "      <td>Church of Saint John the Precursor on Malyshevaia hill. Staraia Ladoga.</td>\n",
       "      <td>1.0</td>\n",
       "      <td>45.000000</td>\n",
       "      <td>NaN</td>\n",
       "      <td>45.0</td>\n",
       "      <td>45.00</td>\n",
       "      <td>45.0</td>\n",
       "      <td>45.00</td>\n",
       "      <td>45.0</td>\n",
       "    </tr>\n",
       "    <tr>\n",
       "      <td>Communard</td>\n",
       "      <td>74.0</td>\n",
       "      <td>247.297297</td>\n",
       "      <td>299.397922</td>\n",
       "      <td>3.0</td>\n",
       "      <td>45.00</td>\n",
       "      <td>126.5</td>\n",
       "      <td>314.00</td>\n",
       "      <td>1231.0</td>\n",
       "    </tr>\n",
       "  </tbody>\n",
       "</table>\n",
       "</div>"
      ],
      "text/plain": [
       "                                                    count        mean  \\\n",
       "locality_name                                                           \n",
       "Agalatovo village                                     3.0  223.666667   \n",
       "Aleksandrovskaya village                              2.0   78.500000   \n",
       "Annino village                                       13.0  265.384615   \n",
       "Ascension settlement                                  2.0  138.500000   \n",
       "Baryshevo village                                     2.0  252.500000   \n",
       "Batovo village                                        7.0  132.714286   \n",
       "Begunitsy village                                    16.0  167.625000   \n",
       "Belogorka village                                    10.0  357.800000   \n",
       "Beloostrov village                                    1.0   45.000000   \n",
       "Big Kolpan village                                   12.0  104.333333   \n",
       "Big Pustomerzha village                               1.0  627.000000   \n",
       "Big Sabsk village                                     0.0         NaN   \n",
       "Big Vruda village                                     2.0   61.500000   \n",
       "Boksitogorsk                                         14.0   89.571429   \n",
       "Bolshoy Reyzino village                               1.0  117.000000   \n",
       "Borisova Griva village                                1.0  386.000000   \n",
       "Bugry village                                       100.0  164.450000   \n",
       "Caltino village                                       6.0  206.166667   \n",
       "Church of Saint John the Precursor on Malysheva...    1.0   45.000000   \n",
       "Communard                                            74.0  247.297297   \n",
       "\n",
       "                                                           std    min     25%  \\\n",
       "locality_name                                                                   \n",
       "Agalatovo village                                   347.192070    5.0   23.50   \n",
       "Aleksandrovskaya village                             47.376154   45.0   61.75   \n",
       "Annino village                                      285.143104    7.0   60.00   \n",
       "Ascension settlement                                 58.689863   97.0  117.75   \n",
       "Baryshevo village                                   303.348809   38.0  145.25   \n",
       "Batovo village                                      123.328443   27.0   61.50   \n",
       "Begunitsy village                                   143.793776   20.0   45.00   \n",
       "Belogorka village                                   319.448066   37.0   67.00   \n",
       "Beloostrov village                                         NaN   45.0   45.00   \n",
       "Big Kolpan village                                  129.186499    6.0   32.25   \n",
       "Big Pustomerzha village                                    NaN  627.0  627.00   \n",
       "Big Sabsk village                                          NaN    NaN     NaN   \n",
       "Big Vruda village                                    23.334524   45.0   53.25   \n",
       "Boksitogorsk                                         86.912612    6.0   26.25   \n",
       "Bolshoy Reyzino village                                    NaN  117.0  117.00   \n",
       "Borisova Griva village                                     NaN  386.0  386.00   \n",
       "Bugry village                                       197.915010    4.0   42.75   \n",
       "Caltino village                                     176.975045   91.0   95.00   \n",
       "Church of Saint John the Precursor on Malysheva...         NaN   45.0   45.00   \n",
       "Communard                                           299.397922    3.0   45.00   \n",
       "\n",
       "                                                      50%     75%     max  \n",
       "locality_name                                                              \n",
       "Agalatovo village                                    42.0  333.00   624.0  \n",
       "Aleksandrovskaya village                             78.5   95.25   112.0  \n",
       "Annino village                                      172.0  375.00   859.0  \n",
       "Ascension settlement                                138.5  159.25   180.0  \n",
       "Baryshevo village                                   252.5  359.75   467.0  \n",
       "Batovo village                                       86.0  151.50   390.0  \n",
       "Begunitsy village                                   142.5  192.50   525.0  \n",
       "Belogorka village                                   339.5  527.25  1021.0  \n",
       "Beloostrov village                                   45.0   45.00    45.0  \n",
       "Big Kolpan village                                   45.0  134.75   438.0  \n",
       "Big Pustomerzha village                             627.0  627.00   627.0  \n",
       "Big Sabsk village                                     NaN     NaN     NaN  \n",
       "Big Vruda village                                    61.5   69.75    78.0  \n",
       "Boksitogorsk                                         45.0  149.50   273.0  \n",
       "Bolshoy Reyzino village                             117.0  117.00   117.0  \n",
       "Borisova Griva village                              386.0  386.00   386.0  \n",
       "Bugry village                                        80.5  213.00  1050.0  \n",
       "Caltino village                                     140.0  212.00   550.0  \n",
       "Church of Saint John the Precursor on Malysheva...   45.0   45.00    45.0  \n",
       "Communard                                           126.5  314.00  1231.0  "
      ]
     },
     "execution_count": 25,
     "metadata": {},
     "output_type": "execute_result"
    }
   ],
   "source": [
    "df.groupby(['locality_name'])['days_exposition'].describe().head(20)"
   ]
  },
  {
   "cell_type": "code",
   "execution_count": 26,
   "metadata": {},
   "outputs": [
    {
     "data": {
      "text/html": [
       "<div>\n",
       "<style scoped>\n",
       "    .dataframe tbody tr th:only-of-type {\n",
       "        vertical-align: middle;\n",
       "    }\n",
       "\n",
       "    .dataframe tbody tr th {\n",
       "        vertical-align: top;\n",
       "    }\n",
       "\n",
       "    .dataframe thead th {\n",
       "        text-align: right;\n",
       "    }\n",
       "</style>\n",
       "<table border=\"1\" class=\"dataframe\">\n",
       "  <thead>\n",
       "    <tr style=\"text-align: right;\">\n",
       "      <th></th>\n",
       "      <th></th>\n",
       "      <th>count</th>\n",
       "      <th>mean</th>\n",
       "      <th>std</th>\n",
       "      <th>min</th>\n",
       "      <th>25%</th>\n",
       "      <th>50%</th>\n",
       "      <th>75%</th>\n",
       "      <th>max</th>\n",
       "    </tr>\n",
       "    <tr>\n",
       "      <th>locality_name</th>\n",
       "      <th>rooms</th>\n",
       "      <th></th>\n",
       "      <th></th>\n",
       "      <th></th>\n",
       "      <th></th>\n",
       "      <th></th>\n",
       "      <th></th>\n",
       "      <th></th>\n",
       "      <th></th>\n",
       "    </tr>\n",
       "  </thead>\n",
       "  <tbody>\n",
       "    <tr>\n",
       "      <td rowspan=\"3\" valign=\"top\">Agalatovo village</td>\n",
       "      <td>1</td>\n",
       "      <td>1.0</td>\n",
       "      <td>42.000000</td>\n",
       "      <td>NaN</td>\n",
       "      <td>42.0</td>\n",
       "      <td>42.0</td>\n",
       "      <td>42.0</td>\n",
       "      <td>42.0</td>\n",
       "      <td>42.0</td>\n",
       "    </tr>\n",
       "    <tr>\n",
       "      <td>2</td>\n",
       "      <td>1.0</td>\n",
       "      <td>5.000000</td>\n",
       "      <td>NaN</td>\n",
       "      <td>5.0</td>\n",
       "      <td>5.0</td>\n",
       "      <td>5.0</td>\n",
       "      <td>5.0</td>\n",
       "      <td>5.0</td>\n",
       "    </tr>\n",
       "    <tr>\n",
       "      <td>3</td>\n",
       "      <td>1.0</td>\n",
       "      <td>624.000000</td>\n",
       "      <td>NaN</td>\n",
       "      <td>624.0</td>\n",
       "      <td>624.0</td>\n",
       "      <td>624.0</td>\n",
       "      <td>624.0</td>\n",
       "      <td>624.0</td>\n",
       "    </tr>\n",
       "    <tr>\n",
       "      <td rowspan=\"2\" valign=\"top\">Aleksandrovskaya village</td>\n",
       "      <td>2</td>\n",
       "      <td>1.0</td>\n",
       "      <td>45.000000</td>\n",
       "      <td>NaN</td>\n",
       "      <td>45.0</td>\n",
       "      <td>45.0</td>\n",
       "      <td>45.0</td>\n",
       "      <td>45.0</td>\n",
       "      <td>45.0</td>\n",
       "    </tr>\n",
       "    <tr>\n",
       "      <td>4</td>\n",
       "      <td>1.0</td>\n",
       "      <td>112.000000</td>\n",
       "      <td>NaN</td>\n",
       "      <td>112.0</td>\n",
       "      <td>112.0</td>\n",
       "      <td>112.0</td>\n",
       "      <td>112.0</td>\n",
       "      <td>112.0</td>\n",
       "    </tr>\n",
       "    <tr>\n",
       "      <td rowspan=\"3\" valign=\"top\">Annino village</td>\n",
       "      <td>1</td>\n",
       "      <td>2.0</td>\n",
       "      <td>54.000000</td>\n",
       "      <td>12.727922</td>\n",
       "      <td>45.0</td>\n",
       "      <td>49.5</td>\n",
       "      <td>54.0</td>\n",
       "      <td>58.5</td>\n",
       "      <td>63.0</td>\n",
       "    </tr>\n",
       "    <tr>\n",
       "      <td>2</td>\n",
       "      <td>9.0</td>\n",
       "      <td>363.333333</td>\n",
       "      <td>294.410003</td>\n",
       "      <td>7.0</td>\n",
       "      <td>172.0</td>\n",
       "      <td>210.0</td>\n",
       "      <td>559.0</td>\n",
       "      <td>859.0</td>\n",
       "    </tr>\n",
       "    <tr>\n",
       "      <td>3</td>\n",
       "      <td>2.0</td>\n",
       "      <td>36.000000</td>\n",
       "      <td>33.941125</td>\n",
       "      <td>12.0</td>\n",
       "      <td>24.0</td>\n",
       "      <td>36.0</td>\n",
       "      <td>48.0</td>\n",
       "      <td>60.0</td>\n",
       "    </tr>\n",
       "    <tr>\n",
       "      <td rowspan=\"2\" valign=\"top\">Ascension settlement</td>\n",
       "      <td>2</td>\n",
       "      <td>1.0</td>\n",
       "      <td>97.000000</td>\n",
       "      <td>NaN</td>\n",
       "      <td>97.0</td>\n",
       "      <td>97.0</td>\n",
       "      <td>97.0</td>\n",
       "      <td>97.0</td>\n",
       "      <td>97.0</td>\n",
       "    </tr>\n",
       "    <tr>\n",
       "      <td>3</td>\n",
       "      <td>1.0</td>\n",
       "      <td>180.000000</td>\n",
       "      <td>NaN</td>\n",
       "      <td>180.0</td>\n",
       "      <td>180.0</td>\n",
       "      <td>180.0</td>\n",
       "      <td>180.0</td>\n",
       "      <td>180.0</td>\n",
       "    </tr>\n",
       "    <tr>\n",
       "      <td rowspan=\"2\" valign=\"top\">Baryshevo village</td>\n",
       "      <td>2</td>\n",
       "      <td>1.0</td>\n",
       "      <td>467.000000</td>\n",
       "      <td>NaN</td>\n",
       "      <td>467.0</td>\n",
       "      <td>467.0</td>\n",
       "      <td>467.0</td>\n",
       "      <td>467.0</td>\n",
       "      <td>467.0</td>\n",
       "    </tr>\n",
       "    <tr>\n",
       "      <td>3</td>\n",
       "      <td>1.0</td>\n",
       "      <td>38.000000</td>\n",
       "      <td>NaN</td>\n",
       "      <td>38.0</td>\n",
       "      <td>38.0</td>\n",
       "      <td>38.0</td>\n",
       "      <td>38.0</td>\n",
       "      <td>38.0</td>\n",
       "    </tr>\n",
       "    <tr>\n",
       "      <td rowspan=\"3\" valign=\"top\">Batovo village</td>\n",
       "      <td>1</td>\n",
       "      <td>1.0</td>\n",
       "      <td>139.000000</td>\n",
       "      <td>NaN</td>\n",
       "      <td>139.0</td>\n",
       "      <td>139.0</td>\n",
       "      <td>139.0</td>\n",
       "      <td>139.0</td>\n",
       "      <td>139.0</td>\n",
       "    </tr>\n",
       "    <tr>\n",
       "      <td>2</td>\n",
       "      <td>3.0</td>\n",
       "      <td>109.333333</td>\n",
       "      <td>47.511402</td>\n",
       "      <td>78.0</td>\n",
       "      <td>82.0</td>\n",
       "      <td>86.0</td>\n",
       "      <td>125.0</td>\n",
       "      <td>164.0</td>\n",
       "    </tr>\n",
       "    <tr>\n",
       "      <td>3</td>\n",
       "      <td>3.0</td>\n",
       "      <td>154.000000</td>\n",
       "      <td>204.580058</td>\n",
       "      <td>27.0</td>\n",
       "      <td>36.0</td>\n",
       "      <td>45.0</td>\n",
       "      <td>217.5</td>\n",
       "      <td>390.0</td>\n",
       "    </tr>\n",
       "    <tr>\n",
       "      <td rowspan=\"3\" valign=\"top\">Begunitsy village</td>\n",
       "      <td>1</td>\n",
       "      <td>2.0</td>\n",
       "      <td>231.000000</td>\n",
       "      <td>100.409163</td>\n",
       "      <td>160.0</td>\n",
       "      <td>195.5</td>\n",
       "      <td>231.0</td>\n",
       "      <td>266.5</td>\n",
       "      <td>302.0</td>\n",
       "    </tr>\n",
       "    <tr>\n",
       "      <td>2</td>\n",
       "      <td>6.0</td>\n",
       "      <td>164.000000</td>\n",
       "      <td>144.514359</td>\n",
       "      <td>45.0</td>\n",
       "      <td>59.5</td>\n",
       "      <td>133.0</td>\n",
       "      <td>188.5</td>\n",
       "      <td>431.0</td>\n",
       "    </tr>\n",
       "    <tr>\n",
       "      <td>3</td>\n",
       "      <td>8.0</td>\n",
       "      <td>154.500000</td>\n",
       "      <td>163.075793</td>\n",
       "      <td>20.0</td>\n",
       "      <td>45.0</td>\n",
       "      <td>110.5</td>\n",
       "      <td>189.5</td>\n",
       "      <td>525.0</td>\n",
       "    </tr>\n",
       "    <tr>\n",
       "      <td rowspan=\"2\" valign=\"top\">Belogorka village</td>\n",
       "      <td>1</td>\n",
       "      <td>3.0</td>\n",
       "      <td>367.666667</td>\n",
       "      <td>297.775643</td>\n",
       "      <td>44.0</td>\n",
       "      <td>236.5</td>\n",
       "      <td>429.0</td>\n",
       "      <td>529.5</td>\n",
       "      <td>630.0</td>\n",
       "    </tr>\n",
       "    <tr>\n",
       "      <td>2</td>\n",
       "      <td>5.0</td>\n",
       "      <td>432.000000</td>\n",
       "      <td>388.581394</td>\n",
       "      <td>42.0</td>\n",
       "      <td>136.0</td>\n",
       "      <td>401.0</td>\n",
       "      <td>560.0</td>\n",
       "      <td>1021.0</td>\n",
       "    </tr>\n",
       "  </tbody>\n",
       "</table>\n",
       "</div>"
      ],
      "text/plain": [
       "                                count        mean         std    min    25%  \\\n",
       "locality_name            rooms                                                \n",
       "Agalatovo village        1        1.0   42.000000         NaN   42.0   42.0   \n",
       "                         2        1.0    5.000000         NaN    5.0    5.0   \n",
       "                         3        1.0  624.000000         NaN  624.0  624.0   \n",
       "Aleksandrovskaya village 2        1.0   45.000000         NaN   45.0   45.0   \n",
       "                         4        1.0  112.000000         NaN  112.0  112.0   \n",
       "Annino village           1        2.0   54.000000   12.727922   45.0   49.5   \n",
       "                         2        9.0  363.333333  294.410003    7.0  172.0   \n",
       "                         3        2.0   36.000000   33.941125   12.0   24.0   \n",
       "Ascension settlement     2        1.0   97.000000         NaN   97.0   97.0   \n",
       "                         3        1.0  180.000000         NaN  180.0  180.0   \n",
       "Baryshevo village        2        1.0  467.000000         NaN  467.0  467.0   \n",
       "                         3        1.0   38.000000         NaN   38.0   38.0   \n",
       "Batovo village           1        1.0  139.000000         NaN  139.0  139.0   \n",
       "                         2        3.0  109.333333   47.511402   78.0   82.0   \n",
       "                         3        3.0  154.000000  204.580058   27.0   36.0   \n",
       "Begunitsy village        1        2.0  231.000000  100.409163  160.0  195.5   \n",
       "                         2        6.0  164.000000  144.514359   45.0   59.5   \n",
       "                         3        8.0  154.500000  163.075793   20.0   45.0   \n",
       "Belogorka village        1        3.0  367.666667  297.775643   44.0  236.5   \n",
       "                         2        5.0  432.000000  388.581394   42.0  136.0   \n",
       "\n",
       "                                  50%    75%     max  \n",
       "locality_name            rooms                        \n",
       "Agalatovo village        1       42.0   42.0    42.0  \n",
       "                         2        5.0    5.0     5.0  \n",
       "                         3      624.0  624.0   624.0  \n",
       "Aleksandrovskaya village 2       45.0   45.0    45.0  \n",
       "                         4      112.0  112.0   112.0  \n",
       "Annino village           1       54.0   58.5    63.0  \n",
       "                         2      210.0  559.0   859.0  \n",
       "                         3       36.0   48.0    60.0  \n",
       "Ascension settlement     2       97.0   97.0    97.0  \n",
       "                         3      180.0  180.0   180.0  \n",
       "Baryshevo village        2      467.0  467.0   467.0  \n",
       "                         3       38.0   38.0    38.0  \n",
       "Batovo village           1      139.0  139.0   139.0  \n",
       "                         2       86.0  125.0   164.0  \n",
       "                         3       45.0  217.5   390.0  \n",
       "Begunitsy village        1      231.0  266.5   302.0  \n",
       "                         2      133.0  188.5   431.0  \n",
       "                         3      110.5  189.5   525.0  \n",
       "Belogorka village        1      429.0  529.5   630.0  \n",
       "                         2      401.0  560.0  1021.0  "
      ]
     },
     "execution_count": 26,
     "metadata": {},
     "output_type": "execute_result"
    }
   ],
   "source": [
    "df.groupby(['locality_name','rooms'])['days_exposition'].describe().head(20)"
   ]
  },
  {
   "cell_type": "markdown",
   "metadata": {},
   "source": [
    "Since std is really high for this columns and also we have a huge gap between mean and median, I decide to groupby locality and rooms to fill median. \n",
    "\n",
    "After that will check how much it has changed before I filled NA."
   ]
  },
  {
   "cell_type": "code",
   "execution_count": 27,
   "metadata": {},
   "outputs": [],
   "source": [
    "df = fill_NA(df,['locality_name','rooms'],['days_exposition'],np.median)"
   ]
  },
  {
   "cell_type": "code",
   "execution_count": 28,
   "metadata": {},
   "outputs": [
    {
     "data": {
      "text/plain": [
       "count    23699.000000\n",
       "mean       156.608844\n",
       "std        213.546873\n",
       "min          0.000000\n",
       "25%         22.000000\n",
       "50%         74.000000\n",
       "75%        199.000000\n",
       "max       1580.000000\n",
       "Name: days_exposition, dtype: float64"
      ]
     },
     "execution_count": 28,
     "metadata": {},
     "output_type": "execute_result"
    }
   ],
   "source": [
    "df['days_exposition'].describe()"
   ]
  },
  {
   "cell_type": "markdown",
   "metadata": {},
   "source": [
    "I can see that both of the median and mean dropped."
   ]
  },
  {
   "cell_type": "code",
   "execution_count": 29,
   "metadata": {},
   "outputs": [
    {
     "name": "stdout",
     "output_type": "stream",
     "text": [
      "\n",
      "There are no columns with NA!\n"
     ]
    }
   ],
   "source": [
    "#last check to see if I finished with filling NA\n",
    "get_percent_of_na(df,2)"
   ]
  },
  {
   "cell_type": "code",
   "execution_count": 30,
   "metadata": {},
   "outputs": [
    {
     "data": {
      "text/plain": [
       "total_images              int64\n",
       "last_price              float64\n",
       "total_area              float64\n",
       "first_day_exposition     object\n",
       "rooms                     int64\n",
       "ceiling_height          float64\n",
       "floors_total            float64\n",
       "living_area             float64\n",
       "floor                     int64\n",
       "studio                     bool\n",
       "open_plan                  bool\n",
       "kitchen_area            float64\n",
       "balcony                 float64\n",
       "locality_name            object\n",
       "airports_nearest        float64\n",
       "cityCenters_nearest     float64\n",
       "parks_around3000        float64\n",
       "parks_nearest           float64\n",
       "ponds_around3000        float64\n",
       "ponds_nearest           float64\n",
       "days_exposition         float64\n",
       "dtype: object"
      ]
     },
     "execution_count": 30,
     "metadata": {},
     "output_type": "execute_result"
    }
   ],
   "source": [
    "df.dtypes"
   ]
  },
  {
   "cell_type": "code",
   "execution_count": 31,
   "metadata": {},
   "outputs": [],
   "source": [
    "#Will convert the next columns to integer, no point of float because these numbers shoould be rounded.\n",
    "ls = ['floors_total','balcony','airports_nearest','cityCenters_nearest','parks_around3000','parks_nearest',\n",
    "         'ponds_around3000','ponds_nearest','days_exposition']\n",
    "df[ls] = df[ls].astype(int)\n",
    "#this suppose to be a date column\n",
    "df['first_day_exposition'] = pd.to_datetime(df['first_day_exposition'], format='%Y-%m-%dT%H:%M:%S')"
   ]
  },
  {
   "cell_type": "code",
   "execution_count": 32,
   "metadata": {},
   "outputs": [
    {
     "data": {
      "text/plain": [
       "total_images                     int64\n",
       "last_price                     float64\n",
       "total_area                     float64\n",
       "first_day_exposition    datetime64[ns]\n",
       "rooms                            int64\n",
       "ceiling_height                 float64\n",
       "floors_total                     int32\n",
       "living_area                    float64\n",
       "floor                            int64\n",
       "studio                            bool\n",
       "open_plan                         bool\n",
       "kitchen_area                   float64\n",
       "balcony                          int32\n",
       "locality_name                   object\n",
       "airports_nearest                 int32\n",
       "cityCenters_nearest              int32\n",
       "parks_around3000                 int32\n",
       "parks_nearest                    int32\n",
       "ponds_around3000                 int32\n",
       "ponds_nearest                    int32\n",
       "days_exposition                  int32\n",
       "dtype: object"
      ]
     },
     "execution_count": 32,
     "metadata": {},
     "output_type": "execute_result"
    }
   ],
   "source": [
    "df.dtypes"
   ]
  },
  {
   "cell_type": "markdown",
   "metadata": {},
   "source": [
    "### Conclusion"
   ]
  },
  {
   "cell_type": "markdown",
   "metadata": {},
   "source": [
    "We had a lot of NA in our data. Filled some based on correlation, some based on intuition and some randomly.\n",
    "\n",
    "All the types for the columns are correct."
   ]
  },
  {
   "cell_type": "markdown",
   "metadata": {},
   "source": [
    "### Step 3. Make calculations and add them to the table"
   ]
  },
  {
   "cell_type": "code",
   "execution_count": 33,
   "metadata": {},
   "outputs": [],
   "source": [
    "def get_floor(x):\n",
    "    \"\"\"\n",
    "    Function to categorize the floor. First, Last or Other.\n",
    "    :param x: Floor number \n",
    "    :return: ndarray with results\n",
    "    \"\"\"\n",
    "    return np.where(df['floor'] == df['floors_total'],'Last',np.where(df['floor'] == 1,'First','Other'))\n",
    "\n",
    "def get_ratio(df,col1,col2):\n",
    "    \"\"\"\n",
    "    Function to calculate ratio between two columns\n",
    "    :param df: The desired dataframe\n",
    "    :param col1: Column name to be numerator\n",
    "    :param col2: denominator\n",
    "    :return: Pandas Series of the divided two columns \n",
    "    \"\"\"\n",
    "    return df[col1] / df[col2]"
   ]
  },
  {
   "cell_type": "code",
   "execution_count": 34,
   "metadata": {},
   "outputs": [],
   "source": [
    "#calculating the price per square meter\n",
    "df['price_per_sq_meter'] = df['last_price'] / df['total_area']\n",
    "\n",
    "#adding some other info to data based on day, month, year\n",
    "df['year'] = df['first_day_exposition'].dt.year\n",
    "df['day'] = df['first_day_exposition'].dt.weekday\n",
    "df['month'] = df['first_day_exposition'].dt.month\n",
    "\n",
    "#adding floor status\n",
    "df['floor_status'] = get_floor(df)\n",
    "\n",
    "df['living_space_ratio'] = get_ratio(df,'living_area','total_area')\n",
    "df['kitchen_ratio'] = get_ratio(df,'kitchen_area','total_area')"
   ]
  },
  {
   "cell_type": "markdown",
   "metadata": {},
   "source": [
    "### Step 4. Conduct exploratory data analysis and follow the instructions below:"
   ]
  },
  {
   "cell_type": "code",
   "execution_count": 35,
   "metadata": {},
   "outputs": [],
   "source": [
    "df.to_csv('after_proccess.csv')"
   ]
  },
  {
   "cell_type": "code",
   "execution_count": 36,
   "metadata": {},
   "outputs": [],
   "source": [
    "df = pd.read_csv('after_proccess.csv')"
   ]
  },
  {
   "cell_type": "markdown",
   "metadata": {},
   "source": [
    "#### Task\n",
    "•Carefully investigate the following parameters: square area, price, number of rooms, and ceiling height. Plot a histogram for each parameter."
   ]
  },
  {
   "cell_type": "code",
   "execution_count": 37,
   "metadata": {},
   "outputs": [
    {
     "data": {
      "text/plain": [
       "<matplotlib.axes._subplots.AxesSubplot at 0x27aeb686108>"
      ]
     },
     "execution_count": 37,
     "metadata": {},
     "output_type": "execute_result"
    },
    {
     "data": {
      "image/png": "[encoded data removed]",
      "text/plain": [
       "<Figure size 432x288 with 1 Axes>"
      ]
     },
     "metadata": {
      "needs_background": "light"
     },
     "output_type": "display_data"
    },
    {
     "data": {
      "image/png": "[encoded data removed]",
      "text/plain": [
       "<Figure size 432x288 with 1 Axes>"
      ]
     },
     "metadata": {
      "needs_background": "light"
     },
     "output_type": "display_data"
    },
    {
     "data": {
      "image/png": "[encoded data removed]",
      "text/plain": [
       "<Figure size 432x288 with 1 Axes>"
      ]
     },
     "metadata": {
      "needs_background": "light"
     },
     "output_type": "display_data"
    },
    {
     "data": {
      "image/png": "[encoded data removed]",
      "text/plain": [
       "<Figure size 432x288 with 1 Axes>"
      ]
     },
     "metadata": {
      "needs_background": "light"
     },
     "output_type": "display_data"
    }
   ],
   "source": [
    "#investigating a few columns with hist plots to see the distribution:\n",
    "\n",
    "df[['rooms']].plot(kind='hist',grid=True,bins = 10,xlim =(0,10))\n",
    "df[['total_area']].plot(kind='hist',grid=True,bins = 10,xlim =(0,350))\n",
    "df[['ceiling_height']].plot(kind='hist',grid=True)\n",
    "df[['last_price']].plot(kind='hist',grid=True,bins = 10,xlim=(df['last_price'].min(),df['last_price'].max()),logy =True)"
   ]
  },
  {
   "cell_type": "markdown",
   "metadata": {},
   "source": [
    "I can see from the graphs that last price has some really high numbers while the majority is <\n",
    "\\begin{equation*} \\left( 3*10\\right)^8\\end{equation*} and is skewed to the left"
   ]
  },
  {
   "cell_type": "markdown",
   "metadata": {},
   "source": [
    "For rooms I can see the majority is under 6, total area is under 200"
   ]
  },
  {
   "cell_type": "markdown",
   "metadata": {},
   "source": [
    "#### Task\n",
    "•Examine the time it's taken to sell the apartment and plot a histogram. Calculate the mean and median and explain the average time it usually takes to complete a sale. When can a sale be considered to have happened rather quickly or taken an extra long time?"
   ]
  },
  {
   "cell_type": "code",
   "execution_count": 38,
   "metadata": {},
   "outputs": [
    {
     "data": {
      "text/plain": [
       "0     3181\n",
       "1        1\n",
       "2        3\n",
       "3      158\n",
       "4      176\n",
       "5      152\n",
       "6      124\n",
       "7      234\n",
       "8      139\n",
       "9      143\n",
       "10     127\n",
       "11     135\n",
       "12     108\n",
       "13     128\n",
       "14     148\n",
       "Name: days_exposition, dtype: int64"
      ]
     },
     "execution_count": 38,
     "metadata": {},
     "output_type": "execute_result"
    }
   ],
   "source": [
    "df['days_exposition'].value_counts().sort_index().head(15)"
   ]
  },
  {
   "cell_type": "code",
   "execution_count": 39,
   "metadata": {},
   "outputs": [
    {
     "data": {
      "text/plain": [
       "1430    1\n",
       "1434    1\n",
       "1441    1\n",
       "1452    1\n",
       "1458    1\n",
       "1477    1\n",
       "1484    1\n",
       "1485    1\n",
       "1489    1\n",
       "1497    1\n",
       "1512    2\n",
       "1513    1\n",
       "1553    1\n",
       "1572    1\n",
       "1580    1\n",
       "Name: days_exposition, dtype: int64"
      ]
     },
     "execution_count": 39,
     "metadata": {},
     "output_type": "execute_result"
    }
   ],
   "source": [
    "df['days_exposition'].value_counts().sort_index().tail(15)"
   ]
  },
  {
   "cell_type": "code",
   "execution_count": 40,
   "metadata": {},
   "outputs": [
    {
     "data": {
      "text/plain": [
       "<matplotlib.axes._subplots.AxesSubplot at 0x27aeb472b08>"
      ]
     },
     "execution_count": 40,
     "metadata": {},
     "output_type": "execute_result"
    },
    {
     "data": {
      "image/png": "[encoded data removed]",
      "text/plain": [
       "<Figure size 432x288 with 1 Axes>"
      ]
     },
     "metadata": {
      "needs_background": "light"
     },
     "output_type": "display_data"
    }
   ],
   "source": [
    "df['days_exposition'].hist()"
   ]
  },
  {
   "cell_type": "code",
   "execution_count": 41,
   "metadata": {},
   "outputs": [
    {
     "data": {
      "text/plain": [
       "count    23699.000000\n",
       "mean       156.608844\n",
       "std        213.546873\n",
       "min          0.000000\n",
       "25%         22.000000\n",
       "50%         74.000000\n",
       "75%        199.000000\n",
       "max       1580.000000\n",
       "Name: days_exposition, dtype: float64"
      ]
     },
     "execution_count": 41,
     "metadata": {},
     "output_type": "execute_result"
    }
   ],
   "source": [
    "df['days_exposition'].describe()"
   ]
  },
  {
   "cell_type": "markdown",
   "metadata": {},
   "source": [
    "I can tell that a lot of ads were removed in the same day (having 0 in value) which I most admit to say it was extra quick. I assume that, if the ad was displayed for only a week it can be count as a quickly sale.\n",
    "\n",
    "Highest value we have is 1580 which is something around 5 years. Personally, I think if an ad was displayed for more than a year I can say it was a long time and over two years, extra long time.\n",
    "\n",
    "From the description I can tell that the mean time of having a sale is 156 days which is almost half a year and the median is 74 days which is less than 3 months.\n",
    "\n",
    "<strong> To conclude: </strong>\n",
    "\n",
    "Based on the number I allow myself to define a sale as quickly if it was displayed for maximum 30 days, long time if it was displayed for more than a year and extra long time for more than two years."
   ]
  },
  {
   "cell_type": "markdown",
   "metadata": {},
   "source": [
    "#### Task\n",
    "•Remove rare and outlying values and describe the patterns you've discovered."
   ]
  },
  {
   "cell_type": "code",
   "execution_count": 42,
   "metadata": {},
   "outputs": [
    {
     "data": {
      "text/plain": [
       "<matplotlib.axes._subplots.AxesSubplot at 0x27aebcd8b08>"
      ]
     },
     "execution_count": 42,
     "metadata": {},
     "output_type": "execute_result"
    },
    {
     "data": {
      "image/png": "[encoded data removed]",
      "text/plain": [
       "<Figure size 432x288 with 1 Axes>"
      ]
     },
     "metadata": {
      "needs_background": "light"
     },
     "output_type": "display_data"
    }
   ],
   "source": [
    "good_rooms = df[df['rooms'] <= df['rooms'].quantile(0.98)]['rooms']\n",
    "good_rooms.plot(kind='hist', xlim=(0,6))"
   ]
  },
  {
   "cell_type": "code",
   "execution_count": 43,
   "metadata": {},
   "outputs": [
    {
     "data": {
      "text/plain": [
       "<matplotlib.axes._subplots.AxesSubplot at 0x27aebd55a08>"
      ]
     },
     "execution_count": 43,
     "metadata": {},
     "output_type": "execute_result"
    },
    {
     "data": {
      "image/png": "[encoded data removed]",
      "text/plain": [
       "<Figure size 432x288 with 1 Axes>"
      ]
     },
     "metadata": {
      "needs_background": "light"
     },
     "output_type": "display_data"
    }
   ],
   "source": [
    "good_ceiling_height = df[df['ceiling_height'] <= df['ceiling_height'].quantile(0.98)]['ceiling_height']\n",
    "good_ceiling_height.plot(kind='hist', xlim=(2,4))"
   ]
  },
  {
   "cell_type": "code",
   "execution_count": 44,
   "metadata": {},
   "outputs": [
    {
     "data": {
      "text/plain": [
       "<matplotlib.axes._subplots.AxesSubplot at 0x27aebdcf548>"
      ]
     },
     "execution_count": 44,
     "metadata": {},
     "output_type": "execute_result"
    },
    {
     "data": {
      "image/png": "[encoded data removed]",
      "text/plain": [
       "<Figure size 432x288 with 1 Axes>"
      ]
     },
     "metadata": {
      "needs_background": "light"
     },
     "output_type": "display_data"
    }
   ],
   "source": [
    "good_sale_price = df[df['last_price'] <= df['last_price'].quantile(0.98)]['last_price']\n",
    "good_sale_price.plot(kind='hist',xlim=(0,df['last_price'].quantile(0.98)))"
   ]
  },
  {
   "cell_type": "code",
   "execution_count": 45,
   "metadata": {},
   "outputs": [
    {
     "data": {
      "text/plain": [
       "<matplotlib.axes._subplots.AxesSubplot at 0x27aebeceb88>"
      ]
     },
     "execution_count": 45,
     "metadata": {},
     "output_type": "execute_result"
    },
    {
     "data": {
      "image/png": "[encoded data removed]",
      "text/plain": [
       "<Figure size 432x288 with 1 Axes>"
      ]
     },
     "metadata": {
      "needs_background": "light"
     },
     "output_type": "display_data"
    }
   ],
   "source": [
    "good_area = df[df['total_area'] <= 200]['total_area']\n",
    "good_area.plot(kind='hist',xlim=(10,200))"
   ]
  },
  {
   "cell_type": "markdown",
   "metadata": {},
   "source": [
    "After cleansing some of the columns, I can see that most of the apartments have 1 or 2 rooms, most of the sale price was 0.2 * 10** 8, a lot of apartments has less than 100 meters and ceiling height is roughly around 2.5-2.75."
   ]
  },
  {
   "cell_type": "markdown",
   "metadata": {},
   "source": [
    "#### Task\n",
    "•Which factors have had the biggest influence on an apartment’s price? Examine whether the value depends on price per meter, number of rooms, floor (top or bottom), or the proximity to the downtown area. Also study the correlation to the publication date: day of the week, month, and year."
   ]
  },
  {
   "cell_type": "code",
   "execution_count": 46,
   "metadata": {},
   "outputs": [
    {
     "data": {
      "text/plain": [
       "array([[<matplotlib.axes._subplots.AxesSubplot object at 0x0000027AEDC18188>,\n",
       "        <matplotlib.axes._subplots.AxesSubplot object at 0x0000027AEDC3F108>],\n",
       "       [<matplotlib.axes._subplots.AxesSubplot object at 0x0000027AEDC74648>,\n",
       "        <matplotlib.axes._subplots.AxesSubplot object at 0x0000027AEDCA9CC8>]],\n",
       "      dtype=object)"
      ]
     },
     "execution_count": 46,
     "metadata": {},
     "output_type": "execute_result"
    },
    {
     "data": {
      "image/png": "[encoded data removed]",
      "text/plain": [
       "<Figure size 720x720 with 4 Axes>"
      ]
     },
     "metadata": {
      "needs_background": "light"
     },
     "output_type": "display_data"
    }
   ],
   "source": [
    "pd.plotting.scatter_matrix(df[['price_per_sq_meter','rooms','floor_status']], figsize=(10,10))"
   ]
  },
  {
   "cell_type": "markdown",
   "metadata": {},
   "source": [
    "I can tell that the bigger the house is (more rooms) the higher the price is."
   ]
  },
  {
   "cell_type": "code",
   "execution_count": 47,
   "metadata": {},
   "outputs": [
    {
     "data": {
      "text/html": [
       "<div>\n",
       "<style scoped>\n",
       "    .dataframe tbody tr th:only-of-type {\n",
       "        vertical-align: middle;\n",
       "    }\n",
       "\n",
       "    .dataframe tbody tr th {\n",
       "        vertical-align: top;\n",
       "    }\n",
       "\n",
       "    .dataframe thead th {\n",
       "        text-align: right;\n",
       "    }\n",
       "</style>\n",
       "<table border=\"1\" class=\"dataframe\">\n",
       "  <thead>\n",
       "    <tr style=\"text-align: right;\">\n",
       "      <th></th>\n",
       "      <th>year</th>\n",
       "      <th>month</th>\n",
       "      <th>day</th>\n",
       "      <th>price_per_sq_meter</th>\n",
       "      <th>rooms</th>\n",
       "    </tr>\n",
       "  </thead>\n",
       "  <tbody>\n",
       "    <tr>\n",
       "      <td>year</td>\n",
       "      <td>1.000000</td>\n",
       "      <td>-0.269642</td>\n",
       "      <td>-0.004799</td>\n",
       "      <td>0.008516</td>\n",
       "      <td>-0.055418</td>\n",
       "    </tr>\n",
       "    <tr>\n",
       "      <td>month</td>\n",
       "      <td>-0.269642</td>\n",
       "      <td>1.000000</td>\n",
       "      <td>0.011496</td>\n",
       "      <td>-0.001995</td>\n",
       "      <td>-0.004469</td>\n",
       "    </tr>\n",
       "    <tr>\n",
       "      <td>day</td>\n",
       "      <td>-0.004799</td>\n",
       "      <td>0.011496</td>\n",
       "      <td>1.000000</td>\n",
       "      <td>-0.007272</td>\n",
       "      <td>-0.004134</td>\n",
       "    </tr>\n",
       "    <tr>\n",
       "      <td>price_per_sq_meter</td>\n",
       "      <td>0.008516</td>\n",
       "      <td>-0.001995</td>\n",
       "      <td>-0.007272</td>\n",
       "      <td>1.000000</td>\n",
       "      <td>0.055420</td>\n",
       "    </tr>\n",
       "    <tr>\n",
       "      <td>rooms</td>\n",
       "      <td>-0.055418</td>\n",
       "      <td>-0.004469</td>\n",
       "      <td>-0.004134</td>\n",
       "      <td>0.055420</td>\n",
       "      <td>1.000000</td>\n",
       "    </tr>\n",
       "  </tbody>\n",
       "</table>\n",
       "</div>"
      ],
      "text/plain": [
       "                        year     month       day  price_per_sq_meter     rooms\n",
       "year                1.000000 -0.269642 -0.004799            0.008516 -0.055418\n",
       "month              -0.269642  1.000000  0.011496           -0.001995 -0.004469\n",
       "day                -0.004799  0.011496  1.000000           -0.007272 -0.004134\n",
       "price_per_sq_meter  0.008516 -0.001995 -0.007272            1.000000  0.055420\n",
       "rooms              -0.055418 -0.004469 -0.004134            0.055420  1.000000"
      ]
     },
     "execution_count": 47,
     "metadata": {},
     "output_type": "execute_result"
    }
   ],
   "source": [
    "df[['year','month','day','price_per_sq_meter','rooms','floor_status']].corr()"
   ]
  },
  {
   "cell_type": "markdown",
   "metadata": {},
   "source": [
    "all of the values are under 0.3 (or -0.3) which can indicates that we do not have a connection."
   ]
  },
  {
   "cell_type": "markdown",
   "metadata": {},
   "source": [
    "I will try to find some connection with grouping"
   ]
  },
  {
   "cell_type": "code",
   "execution_count": 48,
   "metadata": {},
   "outputs": [
    {
     "data": {
      "text/plain": [
       "<matplotlib.axes._subplots.AxesSubplot at 0x27aedd36108>"
      ]
     },
     "execution_count": 48,
     "metadata": {},
     "output_type": "execute_result"
    },
    {
     "data": {
      "image/png": "[encoded data removed]",
      "text/plain": [
       "<Figure size 432x288 with 1 Axes>"
      ]
     },
     "metadata": {
      "needs_background": "light"
     },
     "output_type": "display_data"
    }
   ],
   "source": [
    "df.groupby(['month'])['price_per_sq_meter'].agg('sum').plot(style='o-',title='Month VS Price pre sq meter')"
   ]
  },
  {
   "cell_type": "code",
   "execution_count": 49,
   "metadata": {},
   "outputs": [
    {
     "data": {
      "text/plain": [
       "<matplotlib.axes._subplots.AxesSubplot at 0x27aebdcf948>"
      ]
     },
     "execution_count": 49,
     "metadata": {},
     "output_type": "execute_result"
    },
    {
     "data": {
      "image/png": "[encoded data removed]",
      "text/plain": [
       "<Figure size 432x288 with 1 Axes>"
      ]
     },
     "metadata": {
      "needs_background": "light"
     },
     "output_type": "display_data"
    }
   ],
   "source": [
    "df.groupby(['year'])['price_per_sq_meter'].agg('sum').plot(style='o-',title='Year VS Price pre sq meter')"
   ]
  },
  {
   "cell_type": "code",
   "execution_count": 50,
   "metadata": {},
   "outputs": [
    {
     "data": {
      "text/plain": [
       "<matplotlib.axes._subplots.AxesSubplot at 0x27aebf45c88>"
      ]
     },
     "execution_count": 50,
     "metadata": {},
     "output_type": "execute_result"
    },
    {
     "data": {
      "image/png": "[encoded data removed]",
      "text/plain": [
       "<Figure size 432x288 with 1 Axes>"
      ]
     },
     "metadata": {
      "needs_background": "light"
     },
     "output_type": "display_data"
    }
   ],
   "source": [
    "df.groupby(['day'])['price_per_sq_meter'].agg('sum').plot(style='o-',title='Day VS Price pre sq meter')"
   ]
  },
  {
   "cell_type": "code",
   "execution_count": 51,
   "metadata": {},
   "outputs": [
    {
     "data": {
      "text/plain": [
       "<matplotlib.axes._subplots.AxesSubplot at 0x27aec0aaa88>"
      ]
     },
     "execution_count": 51,
     "metadata": {},
     "output_type": "execute_result"
    },
    {
     "data": {
      "image/png": "[encoded data removed]",
      "text/plain": [
       "<Figure size 720x360 with 1 Axes>"
      ]
     },
     "metadata": {
      "needs_background": "light"
     },
     "output_type": "display_data"
    }
   ],
   "source": [
    "df.groupby(['year','month'])['price_per_sq_meter'].agg('sum').plot(style='o-',title='Month VS Price pre sq meter',figsize=(10,5))"
   ]
  },
  {
   "cell_type": "code",
   "execution_count": 52,
   "metadata": {},
   "outputs": [
    {
     "data": {
      "text/plain": [
       "<matplotlib.axes._subplots.AxesSubplot at 0x27aebf7cc88>"
      ]
     },
     "execution_count": 52,
     "metadata": {},
     "output_type": "execute_result"
    },
    {
     "data": {
      "image/png": "[encoded data removed]",
      "text/plain": [
       "<Figure size 720x360 with 1 Axes>"
      ]
     },
     "metadata": {
      "needs_background": "light"
     },
     "output_type": "display_data"
    }
   ],
   "source": [
    "df.groupby(['month','day'])['price_per_sq_meter'].agg('sum').plot(style='o-',title='Month, Day VS Price pre sq meter',figsize=(10,5))"
   ]
  },
  {
   "cell_type": "markdown",
   "metadata": {},
   "source": [
    "<strong> Conclusion </strong>\n",
    "\n",
    "I can see that there is no seen correlation between price per sq meter in the correlation matrix. How ever, I tried to plot some scatters plot to see if there is a pattern in some years or months. I can see that there was a huge increase between 2016-2017 and a huge drop in 2018-2019, without investigating it deeper (find something on the news or such) I cant really conclude anything. However, for Month, Day we can see some patterns such as that every day 1 there is increase."
   ]
  },
  {
   "cell_type": "markdown",
   "metadata": {},
   "source": [
    "#### Task\n",
    "•Select the 10 places with the largest number of ads then calculate the average price per square foot in these municipalities. Select the locations with the highest and lowest housing prices. You can find this data by name in the ’locality_name’ column."
   ]
  },
  {
   "cell_type": "code",
   "execution_count": 53,
   "metadata": {},
   "outputs": [],
   "source": [
    "largest_places = df['locality_name'].value_counts().nlargest(n=10).index.tolist()"
   ]
  },
  {
   "cell_type": "code",
   "execution_count": 54,
   "metadata": {},
   "outputs": [],
   "source": [
    "df_largest = df[df['locality_name'].isin(largest_places)].reset_index(drop=True)"
   ]
  },
  {
   "cell_type": "code",
   "execution_count": 55,
   "metadata": {},
   "outputs": [
    {
     "data": {
      "text/html": [
       "<div>\n",
       "<style scoped>\n",
       "    .dataframe tbody tr th:only-of-type {\n",
       "        vertical-align: middle;\n",
       "    }\n",
       "\n",
       "    .dataframe tbody tr th {\n",
       "        vertical-align: top;\n",
       "    }\n",
       "\n",
       "    .dataframe thead th {\n",
       "        text-align: right;\n",
       "    }\n",
       "</style>\n",
       "<table border=\"1\" class=\"dataframe\">\n",
       "  <thead>\n",
       "    <tr style=\"text-align: right;\">\n",
       "      <th></th>\n",
       "      <th>mean</th>\n",
       "    </tr>\n",
       "    <tr>\n",
       "      <th>locality_name</th>\n",
       "      <th></th>\n",
       "    </tr>\n",
       "  </thead>\n",
       "  <tbody>\n",
       "    <tr>\n",
       "      <td>Gatchina</td>\n",
       "      <td>68746.146763</td>\n",
       "    </tr>\n",
       "    <tr>\n",
       "      <td>Kolpino</td>\n",
       "      <td>75424.579098</td>\n",
       "    </tr>\n",
       "    <tr>\n",
       "      <td>Kudrovo village</td>\n",
       "      <td>92473.547576</td>\n",
       "    </tr>\n",
       "    <tr>\n",
       "      <td>Murino village</td>\n",
       "      <td>85681.762601</td>\n",
       "    </tr>\n",
       "    <tr>\n",
       "      <td>Pargolovo village</td>\n",
       "      <td>90175.913458</td>\n",
       "    </tr>\n",
       "    <tr>\n",
       "      <td>Shushary village</td>\n",
       "      <td>78677.364217</td>\n",
       "    </tr>\n",
       "    <tr>\n",
       "      <td>St Petersburg</td>\n",
       "      <td>114785.190679</td>\n",
       "    </tr>\n",
       "    <tr>\n",
       "      <td>Vyborg</td>\n",
       "      <td>58141.909153</td>\n",
       "    </tr>\n",
       "    <tr>\n",
       "      <td>ng role model.</td>\n",
       "      <td>103125.819291</td>\n",
       "    </tr>\n",
       "    <tr>\n",
       "      <td>Всеволожск</td>\n",
       "      <td>68654.473986</td>\n",
       "    </tr>\n",
       "  </tbody>\n",
       "</table>\n",
       "</div>"
      ],
      "text/plain": [
       "                            mean\n",
       "locality_name                   \n",
       "Gatchina            68746.146763\n",
       "Kolpino             75424.579098\n",
       "Kudrovo village     92473.547576\n",
       "Murino village      85681.762601\n",
       "Pargolovo village   90175.913458\n",
       "Shushary village    78677.364217\n",
       "St Petersburg      114785.190679\n",
       "Vyborg              58141.909153\n",
       "ng role model.     103125.819291\n",
       "Всеволожск          68654.473986"
      ]
     },
     "execution_count": 55,
     "metadata": {},
     "output_type": "execute_result"
    }
   ],
   "source": [
    "df_largest.groupby(['locality_name'])['price_per_sq_meter'].agg(['mean'])"
   ]
  },
  {
   "cell_type": "markdown",
   "metadata": {},
   "source": [
    "#### Task\n",
    "•Thoroughly look at apartment offers: Each apartment has information about the distance to the downtown area. Select apartments in Saint Petersburg (‘locality_name’). Your task is to pinpoint which area is considered to be downtown. Then create a column with the distance to the downtown area in km and round to the nearest whole number. Next, calculate the average price for each kilometer and plot a graph to display how prices are affected by the distance to the downtown area. Define the turning point where the graph significantly changes, which will indicate downtown."
   ]
  },
  {
   "cell_type": "code",
   "execution_count": 56,
   "metadata": {},
   "outputs": [],
   "source": [
    "new_df = df[df['locality_name']=='St Petersburg']"
   ]
  },
  {
   "cell_type": "code",
   "execution_count": 57,
   "metadata": {},
   "outputs": [],
   "source": [
    "#Get the distance in KM\n",
    "new_df['km_to_city_center'] = round(new_df['cityCenters_nearest'] / 1000)"
   ]
  },
  {
   "cell_type": "code",
   "execution_count": 58,
   "metadata": {},
   "outputs": [
    {
     "data": {
      "text/plain": [
       "<matplotlib.axes._subplots.AxesSubplot at 0x27aeb4d7c08>"
      ]
     },
     "execution_count": 58,
     "metadata": {},
     "output_type": "execute_result"
    },
    {
     "data": {
      "image/png": "[encoded data removed]",
      "text/plain": [
       "<Figure size 720x360 with 1 Axes>"
      ]
     },
     "metadata": {
      "needs_background": "light"
     },
     "output_type": "display_data"
    }
   ],
   "source": [
    "plt.plot([0, 36], [1.5*10**7, 1*10**7], 'k-')\n",
    "new_df.groupby(['km_to_city_center'])['last_price'].agg('mean').plot(figsize=(10,5), xticks=np.arange(0,40,2))"
   ]
  },
  {
   "cell_type": "markdown",
   "metadata": {},
   "source": [
    "So from this graph I can see that around 8 km we have a drop down and from 32 increase again. Therefore I'll filter the data and save those with value <= 8km and >= 36km"
   ]
  },
  {
   "cell_type": "code",
   "execution_count": 59,
   "metadata": {},
   "outputs": [],
   "source": [
    "new_df = new_df[(new_df['km_to_city_center'] <= 8) | (new_df['km_to_city_center'] >=36)]"
   ]
  },
  {
   "cell_type": "code",
   "execution_count": 60,
   "metadata": {},
   "outputs": [
    {
     "data": {
      "text/plain": [
       "(4141, 30)"
      ]
     },
     "execution_count": 60,
     "metadata": {},
     "output_type": "execute_result"
    }
   ],
   "source": [
    "new_df.shape"
   ]
  },
  {
   "cell_type": "code",
   "execution_count": 61,
   "metadata": {},
   "outputs": [],
   "source": [
    "to_check = new_df[['total_area', 'last_price', 'rooms', 'ceiling_height','price_per_sq_meter','floor_status']]"
   ]
  },
  {
   "cell_type": "code",
   "execution_count": 62,
   "metadata": {},
   "outputs": [],
   "source": [
    "#clean the df from the parameters from before:\n",
    "to_check = to_check[(to_check['rooms'] <= to_check['rooms'].quantile(0.98))\n",
    "                    & (to_check['ceiling_height'] <= to_check['ceiling_height'].quantile(0.98))\n",
    "                    & (to_check['last_price'] <= to_check['last_price'].quantile(0.98))\n",
    "                    & (to_check['total_area'] <= 200)]"
   ]
  },
  {
   "cell_type": "code",
   "execution_count": 63,
   "metadata": {},
   "outputs": [],
   "source": [
    "import matplotlib"
   ]
  },
  {
   "cell_type": "code",
   "execution_count": 64,
   "metadata": {},
   "outputs": [
    {
     "data": {
      "text/plain": [
       "'3.2.0'"
      ]
     },
     "execution_count": 64,
     "metadata": {},
     "output_type": "execute_result"
    }
   ],
   "source": [
    "matplotlib.__version__"
   ]
  },
  {
   "cell_type": "code",
   "execution_count": 65,
   "metadata": {},
   "outputs": [
    {
     "data": {
      "text/plain": [
       "(3857, 6)"
      ]
     },
     "execution_count": 65,
     "metadata": {},
     "output_type": "execute_result"
    }
   ],
   "source": [
    "to_check.shape"
   ]
  },
  {
   "cell_type": "markdown",
   "metadata": {},
   "source": [
    "I did not lose too much rows so its ok."
   ]
  },
  {
   "cell_type": "code",
   "execution_count": 66,
   "metadata": {},
   "outputs": [
    {
     "data": {
      "text/plain": [
       "<matplotlib.axes._subplots.AxesSubplot at 0x27aeddd7288>"
      ]
     },
     "execution_count": 66,
     "metadata": {},
     "output_type": "execute_result"
    },
    {
     "data": {
      "image/png": "[encoded data removed]",
      "text/plain": [
       "<Figure size 432x288 with 2 Axes>"
      ]
     },
     "metadata": {
      "needs_background": "light"
     },
     "output_type": "display_data"
    }
   ],
   "source": [
    "sns.heatmap(to_check.corr(), annot=True)"
   ]
  },
  {
   "cell_type": "markdown",
   "metadata": {},
   "source": [
    "### Conclusion\n",
    "\n",
    "After finding the most beneficial apartments in the St. Petersburg Area I found out that:\n",
    "<ul>\n",
    "    <li> Correlation between rooms and total area is high (0.78) </li>\n",
    "    <li> Correlation between last price and total area is medium (0.69)</li>\n",
    "    <li> Between last price and rooms we have also medium correlation. (0.38) </li>\n",
    "    <li> All other columns we have small correlation. </li>\n",
    "    \n",
    "</ul>"
   ]
  },
  {
   "cell_type": "markdown",
   "metadata": {},
   "source": [
    "#### Task\n",
    "•Select a segment of apartments in the downtown, then analyze this area and examine the following parameters: square area, price, number of rooms, ceiling height. Also identify the factors that affect an apartment’s price (number of rooms, floor, distance to the downtown area, and ad publication date). Draw your conclusions. Are they different from the overall deductions about the entire city?"
   ]
  },
  {
   "cell_type": "code",
   "execution_count": 67,
   "metadata": {},
   "outputs": [
    {
     "data": {
      "text/plain": [
       "<matplotlib.axes._subplots.AxesSubplot at 0x27aedeb71c8>"
      ]
     },
     "execution_count": 67,
     "metadata": {},
     "output_type": "execute_result"
    },
    {
     "data": {
      "image/png": "[encoded data removed]",
      "text/plain": [
       "<Figure size 432x288 with 1 Axes>"
      ]
     },
     "metadata": {
      "needs_background": "light"
     },
     "output_type": "display_data"
    }
   ],
   "source": [
    "to_check.plot(y='last_price',x ='total_area', kind='scatter', alpha =0.5,grid=True)"
   ]
  },
  {
   "cell_type": "code",
   "execution_count": 68,
   "metadata": {},
   "outputs": [
    {
     "data": {
      "text/plain": [
       "<matplotlib.axes._subplots.AxesSubplot at 0x27aedf2f948>"
      ]
     },
     "execution_count": 68,
     "metadata": {},
     "output_type": "execute_result"
    },
    {
     "data": {
      "image/png": "[encoded data removed]",
      "text/plain": [
       "<Figure size 432x288 with 1 Axes>"
      ]
     },
     "metadata": {
      "needs_background": "light"
     },
     "output_type": "display_data"
    }
   ],
   "source": [
    "to_check.groupby(['floor_status'])['last_price'].agg('sum').plot(kind='bar')"
   ]
  },
  {
   "cell_type": "code",
   "execution_count": 69,
   "metadata": {},
   "outputs": [
    {
     "data": {
      "text/plain": [
       "<matplotlib.axes._subplots.AxesSubplot at 0x27aee1f76c8>"
      ]
     },
     "execution_count": 69,
     "metadata": {},
     "output_type": "execute_result"
    },
    {
     "data": {
      "image/png": "[encoded data removed]",
      "text/plain": [
       "<Figure size 432x288 with 1 Axes>"
      ]
     },
     "metadata": {
      "needs_background": "light"
     },
     "output_type": "display_data"
    },
    {
     "data": {
      "image/png": "[encoded data removed]",
      "text/plain": [
       "<Figure size 432x288 with 1 Axes>"
      ]
     },
     "metadata": {
      "needs_background": "light"
     },
     "output_type": "display_data"
    }
   ],
   "source": [
    "df.pivot_table(index='day',values='last_price',aggfunc='sum').plot()\n",
    "df.pivot_table(index='day',values='last_price',aggfunc='mean').plot()"
   ]
  },
  {
   "cell_type": "code",
   "execution_count": 70,
   "metadata": {},
   "outputs": [
    {
     "data": {
      "text/plain": [
       "<matplotlib.axes._subplots.AxesSubplot at 0x27aee2dd608>"
      ]
     },
     "execution_count": 70,
     "metadata": {},
     "output_type": "execute_result"
    },
    {
     "data": {
      "image/png": "[encoded data removed]",
      "text/plain": [
       "<Figure size 432x288 with 1 Axes>"
      ]
     },
     "metadata": {
      "needs_background": "light"
     },
     "output_type": "display_data"
    },
    {
     "data": {
      "image/png": "[encoded data removed]",
      "text/plain": [
       "<Figure size 432x288 with 1 Axes>"
      ]
     },
     "metadata": {
      "needs_background": "light"
     },
     "output_type": "display_data"
    }
   ],
   "source": [
    "df.pivot_table(index='month',values='last_price',aggfunc='sum').plot()\n",
    "df.pivot_table(index='month',values='last_price',aggfunc='mean').plot()"
   ]
  },
  {
   "cell_type": "code",
   "execution_count": 71,
   "metadata": {},
   "outputs": [
    {
     "data": {
      "text/plain": [
       "<matplotlib.axes._subplots.AxesSubplot at 0x27aee29b5c8>"
      ]
     },
     "execution_count": 71,
     "metadata": {},
     "output_type": "execute_result"
    },
    {
     "data": {
      "image/png": "[encoded data removed]",
      "text/plain": [
       "<Figure size 432x288 with 1 Axes>"
      ]
     },
     "metadata": {
      "needs_background": "light"
     },
     "output_type": "display_data"
    },
    {
     "data": {
      "image/png": "[encoded data removed]",
      "text/plain": [
       "<Figure size 432x288 with 1 Axes>"
      ]
     },
     "metadata": {
      "needs_background": "light"
     },
     "output_type": "display_data"
    }
   ],
   "source": [
    "df.pivot_table(index='year',values='last_price',aggfunc='sum').plot()\n",
    "df.pivot_table(index='year',values='last_price',aggfunc='mean').plot()"
   ]
  },
  {
   "cell_type": "markdown",
   "metadata": {},
   "source": [
    "### Step 5. Overall conclusion"
   ]
  },
  {
   "cell_type": "markdown",
   "metadata": {},
   "source": [
    "This data had a lot of missins data.\n",
    "\n",
    "I had to do bunch of pre-process to make the data readable and useable. After cleaning the data I could tell that the majority of apartments are from St. Petersburg."
   ]
  },
  {
   "cell_type": "markdown",
   "metadata": {},
   "source": [
    "Based on the data analysis we can see that days exposition is skewed\n",
    "to the left which means that most of the apartments were sold before\n",
    "the mean of the data. \n",
    "\n",
    "After cleaning the data and checking the St. Petersburg homes for the\n",
    "nearst downtown we saw that most of the are located up to 8km or above 36.\n",
    "\n",
    "Once I took only the \"good\" data I saw that:\n",
    "\n",
    "<ol>\n",
    " <li> We had some columns with high correlation and most of them with\n",
    "\tweak correlation</li>\n",
    "<li> We saw increase in last price as function of increase in total area</li>\n",
    "<li> Most of \"other\" floor status had the selling which means\n",
    "\tpeople intend to not buy the first or last floor</li>\n",
    "<li> On day 5 and 6 (Saturday and Sunday) we see a \n",
    "decrease on sum in sales which can happen because maybe they do not\n",
    "work at these days and its easier for them to buy during the week </li>\n",
    "<li> About month we see a decrease on May and the mean does not\n",
    "really tell us something</li>\n",
    "<li> In years we can see increase of sales around 2016-2018</li>\n",
    "</ol>"
   ]
  }
 ],
 "metadata": {
  "kernelspec": {
   "display_name": "Python 3",
   "language": "python",
   "name": "python3"
  },
  "language_info": {
   "codemirror_mode": {
    "name": "ipython",
    "version": 3
   },
   "file_extension": ".py",
   "mimetype": "text/x-python",
   "name": "python",
   "nbconvert_exporter": "python",
   "pygments_lexer": "ipython3",
   "version": "3.7.4"
  }
 },
 "nbformat": 4,
 "nbformat_minor": 4
}
